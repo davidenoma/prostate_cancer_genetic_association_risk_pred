{
  "nbformat": 4,
  "nbformat_minor": 0,
  "metadata": {
    "colab": {
      "name": "Feature_Importance_OLOMO.ipynb",
      "provenance": []
    },
    "kernelspec": {
      "name": "python3",
      "display_name": "Python 3"
    },
    "language_info": {
      "name": "python"
    }
  },
  "cells": [
    {
      "cell_type": "code",
      "execution_count": 1,
      "metadata": {
        "colab": {
          "base_uri": "https://localhost:8080/"
        },
        "id": "grzvKFylfSTn",
        "outputId": "a3ac14fa-8a5f-4b99-9f3a-97f3259c3d56"
      },
      "outputs": [
        {
          "output_type": "stream",
          "name": "stdout",
          "text": [
            "Mounted at /content/drive\n"
          ]
        }
      ],
      "source": [
        "import pandas as pd\n",
        "import seaborn as sns\n",
        "import matplotlib.pyplot as plt\n",
        "import numpy as np\n",
        "from google.colab import drive\n",
        "drive.mount('/content/drive')"
      ]
    },
    {
      "cell_type": "code",
      "source": [
        "X = pd.read_csv(\"/content/drive/My Drive/David_Enoma_PhD_Project/Xsubset.csv\",header=None)\n",
        "y = pd.read_csv(\"/content/drive/My Drive/David_Enoma_PhD_Project/hapmap_phenotype_recoded.txt\", sep = \" \", header = None)"
      ],
      "metadata": {
        "id": "6u6jZhoNhDB5"
      },
      "execution_count": 2,
      "outputs": []
    },
    {
      "cell_type": "code",
      "source": [
        "import sklearn\n",
        "import xgboost\n",
        "from xgboost import XGBClassifier\n",
        "from sklearn.inspection import permutation_importance"
      ],
      "metadata": {
        "id": "jw1VaHdfiHla"
      },
      "execution_count": 4,
      "outputs": []
    },
    {
      "cell_type": "code",
      "source": [
        "model = XGBClassifier()\n",
        "\n",
        "model.fit(X,y)\n",
        "\n",
        "# This is used to get the IMPORTANCE OF each feature\n",
        "importance = model.feature_importances_ \n",
        "\n",
        "importance_dict = dict()\n",
        "\n",
        "\n",
        "for i,v in enumerate(importance):\n",
        "  importance_dict[i] = v\n",
        "\n",
        "g = sorted(importance_dict.items(), key=lambda kv: kv[1], reverse=True)\n",
        "g[:20]"
      ],
      "metadata": {
        "colab": {
          "base_uri": "https://localhost:8080/"
        },
        "id": "ThSgrToxjJs-",
        "outputId": "1ab9e4b1-0a60-485f-eb87-8612eff95c46"
      },
      "execution_count": 12,
      "outputs": [
        {
          "output_type": "stream",
          "name": "stderr",
          "text": [
            "/usr/local/lib/python3.7/dist-packages/sklearn/preprocessing/_label.py:98: DataConversionWarning: A column-vector y was passed when a 1d array was expected. Please change the shape of y to (n_samples, ), for example using ravel().\n",
            "  y = column_or_1d(y, warn=True)\n",
            "/usr/local/lib/python3.7/dist-packages/sklearn/preprocessing/_label.py:133: DataConversionWarning: A column-vector y was passed when a 1d array was expected. Please change the shape of y to (n_samples, ), for example using ravel().\n",
            "  y = column_or_1d(y, warn=True)\n"
          ]
        },
        {
          "output_type": "execute_result",
          "data": {
            "text/plain": [
              "[(271, 0.034965213),\n",
              " (259, 0.027543742),\n",
              " (598, 0.024718106),\n",
              " (873, 0.022710752),\n",
              " (427, 0.022327483),\n",
              " (490, 0.021669576),\n",
              " (504, 0.019742774),\n",
              " (273, 0.019166967),\n",
              " (507, 0.018847082),\n",
              " (221, 0.017980663),\n",
              " (354, 0.017650498),\n",
              " (489, 0.017426154),\n",
              " (291, 0.016415192),\n",
              " (712, 0.016104136),\n",
              " (708, 0.016071923),\n",
              " (453, 0.014995124),\n",
              " (346, 0.014975371),\n",
              " (281, 0.01489595),\n",
              " (603, 0.014091874),\n",
              " (631, 0.013799318)]"
            ]
          },
          "metadata": {},
          "execution_count": 12
        }
      ]
    },
    {
      "cell_type": "markdown",
      "source": [
        "[(271, 0.034965213),\n",
        "\n",
        " (259, 0.027543742),\n",
        "\n",
        "\n",
        " (598, 0.024718106),\n",
        " \n",
        " (873, 0.022710752),\n",
        "\n",
        " (427, 0.022327483),\n",
        " \n",
        " (490, 0.021669576),\n",
        "\n",
        " (504, 0.019742774),\n",
        " \n",
        " (273, 0.019166967),\n",
        " \n",
        " (507, 0.018847082),\n",
        "\n",
        " (221, 0.017980663),\n",
        "\n",
        " (354, 0.017650498),\n",
        "\n",
        " (489, 0.017426154),\n",
        "\n",
        " (291, 0.016415192),\n",
        "\n",
        " (712, 0.016104136),\n",
        "\n",
        " (708, 0.016071923),\n",
        "\n",
        " (453, 0.014995124),\n",
        "\n",
        " (346, 0.014975371),\n",
        "\n",
        " (281, 0.01489595),\n",
        "\n",
        " (603, 0.014091874),\n",
        "\n",
        "\n",
        " (631, 0.013799318)]"
      ],
      "metadata": {
        "id": "cjRuCKhzl6m2"
      }
    },
    {
      "cell_type": "code",
      "source": [
        "plt.bar([x for x in range(len(importance))], importance)"
      ],
      "metadata": {
        "colab": {
          "base_uri": "https://localhost:8080/",
          "height": 283
        },
        "id": "0uHLn5IhI9bN",
        "outputId": "cf96859d-074b-4e79-d665-34b338740a98"
      },
      "execution_count": 13,
      "outputs": [
        {
          "output_type": "execute_result",
          "data": {
            "text/plain": [
              "<BarContainer object of 1002 artists>"
            ]
          },
          "metadata": {},
          "execution_count": 13
        },
        {
          "output_type": "display_data",
          "data": {
            "text/plain": [
              "<Figure size 432x288 with 1 Axes>"
            ],
            "image/png": "[encoded data removed]"
          },
          "metadata": {
            "needs_background": "light"
          }
        }
      ]
    },
    {
      "cell_type": "code",
      "source": [
        "model = XGBClassifier()\n",
        "\n",
        "model.fit(X,y)\n",
        "\n",
        "# This is used to get the IMPORTANCE OF each feature\n",
        "results = permutation_importance(model, X, y, scoring = \"accuracy\") #\"neg_mean_squared_error\") \n",
        "\n",
        "importance = results.importances_mean\n",
        "\n",
        "importance_dict = dict()\n",
        "\n",
        "\n",
        "for i,v in enumerate(importance):\n",
        "  importance_dict[i] = v\n",
        "\n",
        "g = sorted(importance_dict.items(), key=lambda kv: kv[1], reverse=True)\n",
        "g[:20]"
      ],
      "metadata": {
        "colab": {
          "base_uri": "https://localhost:8080/"
        },
        "id": "3x8rCi7PGSVa",
        "outputId": "f298911b-e01f-4fcb-c8a9-9bf214ae395c"
      },
      "execution_count": 9,
      "outputs": [
        {
          "output_type": "stream",
          "name": "stderr",
          "text": [
            "/usr/local/lib/python3.7/dist-packages/sklearn/preprocessing/_label.py:98: DataConversionWarning: A column-vector y was passed when a 1d array was expected. Please change the shape of y to (n_samples, ), for example using ravel().\n",
            "  y = column_or_1d(y, warn=True)\n",
            "/usr/local/lib/python3.7/dist-packages/sklearn/preprocessing/_label.py:133: DataConversionWarning: A column-vector y was passed when a 1d array was expected. Please change the shape of y to (n_samples, ), for example using ravel().\n",
            "  y = column_or_1d(y, warn=True)\n"
          ]
        },
        {
          "output_type": "execute_result",
          "data": {
            "text/plain": [
              "[(485, 0.00550458715596327),\n",
              " (0, 0.0),\n",
              " (1, 0.0),\n",
              " (2, 0.0),\n",
              " (3, 0.0),\n",
              " (4, 0.0),\n",
              " (5, 0.0),\n",
              " (6, 0.0),\n",
              " (7, 0.0),\n",
              " (8, 0.0),\n",
              " (9, 0.0),\n",
              " (10, 0.0),\n",
              " (11, 0.0),\n",
              " (12, 0.0),\n",
              " (13, 0.0),\n",
              " (14, 0.0),\n",
              " (15, 0.0),\n",
              " (16, 0.0),\n",
              " (17, 0.0),\n",
              " (18, 0.0)]"
            ]
          },
          "metadata": {},
          "execution_count": 9
        }
      ]
    },
    {
      "cell_type": "code",
      "source": [
        "model = XGBClassifier()\n",
        "\n",
        "model.fit(X,y)\n",
        "\n",
        "# This is used to get the IMPORTANCE OF each feature\n",
        "results = permutation_importance(model, X, y, scoring = \"f1\") #\"neg_mean_squared_error\") \n",
        "\n",
        "importance = results.importances_mean\n",
        "\n",
        "importance_dict = dict()\n",
        "\n",
        "\n",
        "for i,v in enumerate(importance):\n",
        "  importance_dict[i] = v\n",
        "\n",
        "g = sorted(importance_dict.items(), key=lambda kv: kv[1], reverse=True)\n",
        "g[:20]"
      ],
      "metadata": {
        "colab": {
          "base_uri": "https://localhost:8080/"
        },
        "id": "-Dc68Rq5K2iC",
        "outputId": "392fb1b7-04ad-4c5c-98d6-123f806c9f9f"
      },
      "execution_count": 14,
      "outputs": [
        {
          "output_type": "stream",
          "name": "stderr",
          "text": [
            "/usr/local/lib/python3.7/dist-packages/sklearn/preprocessing/_label.py:98: DataConversionWarning: A column-vector y was passed when a 1d array was expected. Please change the shape of y to (n_samples, ), for example using ravel().\n",
            "  y = column_or_1d(y, warn=True)\n",
            "/usr/local/lib/python3.7/dist-packages/sklearn/preprocessing/_label.py:133: DataConversionWarning: A column-vector y was passed when a 1d array was expected. Please change the shape of y to (n_samples, ), for example using ravel().\n",
            "  y = column_or_1d(y, warn=True)\n"
          ]
        },
        {
          "output_type": "execute_result",
          "data": {
            "text/plain": [
              "[(485, 0.0018018018018018279),\n",
              " (0, 0.0),\n",
              " (1, 0.0),\n",
              " (2, 0.0),\n",
              " (3, 0.0),\n",
              " (4, 0.0),\n",
              " (5, 0.0),\n",
              " (6, 0.0),\n",
              " (7, 0.0),\n",
              " (8, 0.0),\n",
              " (9, 0.0),\n",
              " (10, 0.0),\n",
              " (11, 0.0),\n",
              " (12, 0.0),\n",
              " (13, 0.0),\n",
              " (14, 0.0),\n",
              " (15, 0.0),\n",
              " (16, 0.0),\n",
              " (17, 0.0),\n",
              " (18, 0.0)]"
            ]
          },
          "metadata": {},
          "execution_count": 14
        }
      ]
    }
  ]
}