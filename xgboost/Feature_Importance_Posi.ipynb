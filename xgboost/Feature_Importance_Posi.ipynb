{
  "nbformat": 4,
  "nbformat_minor": 0,
  "metadata": {
    "colab": {
      "name": "Feature_Importance_Posi.ipynb",
      "provenance": []
    },
    "kernelspec": {
      "name": "python3",
      "display_name": "Python 3"
    },
    "language_info": {
      "name": "python"
    }
  },
  "cells": [
    {
      "cell_type": "code",
      "execution_count": 1,
      "metadata": {
        "colab": {
          "base_uri": "https://localhost:8080/"
        },
        "id": "grzvKFylfSTn",
        "outputId": "12999c12-a9ab-4bac-f26b-5e26dbdf9fe7"
      },
      "outputs": [
        {
          "output_type": "stream",
          "name": "stdout",
          "text": [
            "Mounted at /content/drive\n"
          ]
        }
      ],
      "source": [
        "import pandas as pd\n",
        "import seaborn as sns\n",
        "import matplotlib.pyplot as plt\n",
        "import numpy as np\n",
        "from google.colab import drive\n",
        "drive.mount('/content/drive')"
      ]
    },
    {
      "cell_type": "code",
      "source": [
        "X = pd.read_csv(\"/content/drive/My Drive/David_Enoma_PhD_Project/Xsubset.csv\",header=None)\n",
        "y = pd.read_csv(\"/content/drive/My Drive/David_Enoma_PhD_Project/hapmap_phenotype_recoded.txt\", sep = \" \", header = None)"
      ],
      "metadata": {
        "id": "6u6jZhoNhDB5"
      },
      "execution_count": 9,
      "outputs": []
    },
    {
      "cell_type": "code",
      "source": [
        "import sklearn\n",
        "import xgboost\n",
        "from xgboost import XGBClassifier"
      ],
      "metadata": {
        "id": "jw1VaHdfiHla"
      },
      "execution_count": 13,
      "outputs": []
    },
    {
      "cell_type": "code",
      "source": [
        "model = XGBClassifier()\n",
        "\n",
        "model.fit(X,y)\n",
        "\n",
        "# This is used to get the IMPORTANCE OF each feature\n",
        "importance = model.feature_importances_ \n",
        "\n",
        "importance_dict = dict()\n",
        "\n",
        "\n",
        "for i,v in enumerate(importance):\n",
        "  importance_dict[i] = v\n",
        "\n",
        "g = sorted(importance_dict.items(), key=lambda kv: kv[1], reverse=True)\n",
        "g[:20]"
      ],
      "metadata": {
        "colab": {
          "base_uri": "https://localhost:8080/"
        },
        "id": "ThSgrToxjJs-",
        "outputId": "14604e4e-6c1d-4373-cb77-f74dd455b2b7"
      },
      "execution_count": 26,
      "outputs": [
        {
          "output_type": "stream",
          "name": "stderr",
          "text": [
            "/usr/local/lib/python3.7/dist-packages/sklearn/preprocessing/_label.py:98: DataConversionWarning: A column-vector y was passed when a 1d array was expected. Please change the shape of y to (n_samples, ), for example using ravel().\n",
            "  y = column_or_1d(y, warn=True)\n",
            "/usr/local/lib/python3.7/dist-packages/sklearn/preprocessing/_label.py:133: DataConversionWarning: A column-vector y was passed when a 1d array was expected. Please change the shape of y to (n_samples, ), for example using ravel().\n",
            "  y = column_or_1d(y, warn=True)\n"
          ]
        },
        {
          "output_type": "execute_result",
          "data": {
            "text/plain": [
              "[(271, 0.034965213),\n",
              " (259, 0.027543742),\n",
              " (598, 0.024718106),\n",
              " (873, 0.022710752),\n",
              " (427, 0.022327483),\n",
              " (490, 0.021669576),\n",
              " (504, 0.019742774),\n",
              " (273, 0.019166967),\n",
              " (507, 0.018847082),\n",
              " (221, 0.017980663),\n",
              " (354, 0.017650498),\n",
              " (489, 0.017426154),\n",
              " (291, 0.016415192),\n",
              " (712, 0.016104136),\n",
              " (708, 0.016071923),\n",
              " (453, 0.014995124),\n",
              " (346, 0.014975371),\n",
              " (281, 0.01489595),\n",
              " (603, 0.014091874),\n",
              " (631, 0.013799318)]"
            ]
          },
          "metadata": {},
          "execution_count": 26
        }
      ]
    },
    {
      "cell_type": "markdown",
      "source": [
        "[(271, 0.034965213),\n",
        "\n",
        " (259, 0.027543742),\n",
        "\n",
        "\n",
        " (598, 0.024718106),\n",
        " \n",
        " (873, 0.022710752),\n",
        "\n",
        " (427, 0.022327483),\n",
        " \n",
        " (490, 0.021669576),\n",
        "\n",
        " (504, 0.019742774),\n",
        " \n",
        " (273, 0.019166967),\n",
        " \n",
        " (507, 0.018847082),\n",
        "\n",
        " (221, 0.017980663),\n",
        "\n",
        " (354, 0.017650498),\n",
        "\n",
        " (489, 0.017426154),\n",
        "\n",
        " (291, 0.016415192),\n",
        "\n",
        " (712, 0.016104136),\n",
        "\n",
        " (708, 0.016071923),\n",
        "\n",
        " (453, 0.014995124),\n",
        "\n",
        " (346, 0.014975371),\n",
        "\n",
        " (281, 0.01489595),\n",
        "\n",
        " (603, 0.014091874),\n",
        "\n",
        "\n",
        " (631, 0.013799318)]"
      ],
      "metadata": {
        "id": "cjRuCKhzl6m2"
      }
    },
    {
      "cell_type": "code",
      "source": [
        ""
      ],
      "metadata": {
        "id": "R54fhJDUmH15"
      },
      "execution_count": null,
      "outputs": []
    }
  ]
}