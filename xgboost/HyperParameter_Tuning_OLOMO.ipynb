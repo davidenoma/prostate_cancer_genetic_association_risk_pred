{
  "nbformat": 4,
  "nbformat_minor": 0,
  "metadata": {
    "colab": {
      "name": "HyperParameter_Tuning_OLOMO.ipynb",
      "provenance": []
    },
    "kernelspec": {
      "name": "python3",
      "display_name": "Python 3"
    },
    "language_info": {
      "name": "python"
    }
  },
  "cells": [
    {
      "cell_type": "code",
      "execution_count": 19,
      "metadata": {
        "colab": {
          "base_uri": "https://localhost:8080/"
        },
        "id": "JiFg8FGpkKLB",
        "outputId": "29262a0b-d806-402a-8b83-0aee144dad9c"
      },
      "outputs": [
        {
          "output_type": "stream",
          "name": "stdout",
          "text": [
            "\u001b[K     |████████████████████████████████| 308 kB 24.1 MB/s \n",
            "\u001b[K     |████████████████████████████████| 81 kB 7.8 MB/s \n",
            "\u001b[K     |████████████████████████████████| 209 kB 57.9 MB/s \n",
            "\u001b[K     |████████████████████████████████| 78 kB 6.3 MB/s \n",
            "\u001b[K     |████████████████████████████████| 112 kB 55.9 MB/s \n",
            "\u001b[K     |████████████████████████████████| 49 kB 5.5 MB/s \n",
            "\u001b[K     |████████████████████████████████| 146 kB 43.8 MB/s \n",
            "\u001b[?25h  Building wheel for pyperclip (setup.py) ... \u001b[?25l\u001b[?25hdone\n"
          ]
        }
      ],
      "source": [
        "!pip install --quiet optuna\n",
        "\n",
        "import optuna\n",
        "import optuna.integration"
      ]
    },
    {
      "cell_type": "code",
      "source": [
        "import xgboost as xgb\n",
        "import pandas as pd\n",
        "import numpy as np\n",
        "import sklearn\n",
        "import sklearn.datasets\n",
        "from sklearn.metrics import accuracy_score\n",
        "from sklearn.metrics import recall_score\n",
        "from sklearn.model_selection import train_test_split\n",
        "from xgboost import XGBClassifier\n",
        "\n",
        "from google.colab import drive\n",
        "drive.mount('/content/drive')"
      ],
      "metadata": {
        "colab": {
          "base_uri": "https://localhost:8080/"
        },
        "id": "J8379OnUkXz7",
        "outputId": "a53530d3-7e24-4e5b-ced5-200e4df4cc75"
      },
      "execution_count": 71,
      "outputs": [
        {
          "output_type": "stream",
          "name": "stdout",
          "text": [
            "Drive already mounted at /content/drive; to attempt to forcibly remount, call drive.mount(\"/content/drive\", force_remount=True).\n"
          ]
        }
      ]
    },
    {
      "cell_type": "markdown",
      "source": [
        "## First  using the evaluation metric \"Accuracy\""
      ],
      "metadata": {
        "id": "qQoWGK8uhOyH"
      }
    },
    {
      "cell_type": "code",
      "source": [
        "def objective(trial):\n",
        "  X = pd.read_csv(\"/content/drive/My Drive/David_Enoma_PhD_Project/Xsubset.csv\",header=None)\n",
        "  y = pd.read_csv(\"/content/drive/My Drive/David_Enoma_PhD_Project/hapmap_phenotype_recoded.txt\", sep = \" \", header = None)\n",
        "  y.replace([1,2], [0,1], inplace = True)\n",
        "  X_train, X_test, y_train, y_test = train_test_split(X, y, test_size = 0.33, random_state = 234)\n",
        "  dtrain = xgb.DMatrix(X_train, label = y_train)\n",
        "  dtest = xgb.DMatrix(X_test, label = y_test)\n",
        "  param = {\n",
        "      \"silent\": 1,\n",
        "      \"objective\": \"binary:logistic\",\n",
        "      \"eval_metric\": \"auc\",\n",
        "      # The booster parameter sets the type of learner. Usually this is either a tree \n",
        "      # or a linear function. In the case of trees, the model will consist of an ensemble \n",
        "      # of trees. For the linear booster, it will be a weighted sum of linear functions.\n",
        "      \"booster\": trial.suggest_categorical(\"booster\", [\"gbtree\", \"gblinear\", \"dart\"]),\n",
        "      \"lambda\": trial.suggest_loguniform(\"lambda\", 1e-8, 1.0),\n",
        "      \"alpha\": trial.suggest_loguniform(\"alpha\", 1e-8, 1.0),\n",
        "  }\n",
        "\n",
        "  if param[\"booster\"] == \"gbtree\" or param[\"booster\"] == \"dart\":\n",
        "    param[\"max_depth\"] = trial.suggest_int(\"max_depth\", 1, 9)\n",
        "    param[\"eta\"]= trial.suggest_loguniform(\"eta\", 1e-8, 1.0)\n",
        "    param[\"gamma\"]= trial.suggest_loguniform(\"gamma\", 1e-8, 1.0)\n",
        "    param[\"grow_policy\"] = trial.suggest_categorical(\"grow_policy\", [\"depthwise\", \"lossguide\"])\n",
        "\n",
        "  if param[\"booster\"] == \"dart\":\n",
        "    param[\"sample_type\"]=trial.suggest_categorical(\"sample_type\", [\"uniform\", \"weighted\"])\n",
        "    param[\"normalize_type\"]=trial.suggest_categorical(\"normalize_type\", [\"tree\", \"forest\"])\n",
        "    param[\"rate_drop\"] = trial.suggest_loguniform(\"rate_drop\", 1e-8, 1.0)\n",
        "    param[\"skip_drop\"] = trial.suggest_loguniform(\"skip_drop\", 1e-8, 1.0)\n",
        "\n",
        "\n",
        "    # Call Back for Pruning\n",
        "\n",
        "  pruning_callback = optuna.integration.XGBoostPruningCallback(trial, \"validation-auc\")\n",
        "  bst = xgb.train(param, dtrain, evals = [(dtest, \"validation\")], callbacks = [pruning_callback])\n",
        "  preds = bst.predict(dtest)\n",
        "  pred_labels = np.rint(preds)\n",
        "  accuracy = accuracy_score(y_test, pred_labels)\n",
        "  return accuracy"
      ],
      "metadata": {
        "id": "ZYCGL4HrlA-e"
      },
      "execution_count": 69,
      "outputs": []
    },
    {
      "cell_type": "code",
      "source": [
        "study = optuna.create_study(direction=\"maximize\")\n",
        "study.optimize(objective, n_trials = 100, timeout=600)\n",
        "trial = study.best_trial\n",
        "\n",
        "print(\"Accuracy : %f\", trial.value)\n",
        "print(\"Best HyperParamteters : %f\", trial.params)"
      ],
      "metadata": {
        "colab": {
          "base_uri": "https://localhost:8080/"
        },
        "id": "Vtn5mw4UmZd2",
        "outputId": "5d95f4c1-877a-4ca6-82a8-d276a0e3a32a"
      },
      "execution_count": 70,
      "outputs": [
        {
          "output_type": "stream",
          "name": "stderr",
          "text": [
            "\u001b[32m[I 2022-06-02 17:12:50,838]\u001b[0m A new study created in memory with name: no-name-2cf61db9-e1a6-4fe1-a8a4-41fb0e889d71\u001b[0m\n"
          ]
        },
        {
          "output_type": "stream",
          "name": "stdout",
          "text": [
            "[0]\tvalidation-auc:0.577922\n",
            "[1]\tvalidation-auc:0.637987\n",
            "[2]\tvalidation-auc:0.608766\n",
            "[3]\tvalidation-auc:0.519481\n",
            "[4]\tvalidation-auc:0.530844\n",
            "[5]\tvalidation-auc:0.571429\n",
            "[6]\tvalidation-auc:0.537338\n",
            "[7]\tvalidation-auc:0.576299\n",
            "[8]\tvalidation-auc:0.547078\n",
            "[9]\tvalidation-auc:0.535714\n"
          ]
        },
        {
          "output_type": "stream",
          "name": "stderr",
          "text": [
            "\u001b[32m[I 2022-06-02 17:12:51,024]\u001b[0m Trial 0 finished with value: 0.5833333333333334 and parameters: {'booster': 'gbtree', 'lambda': 0.0003447537140857252, 'alpha': 0.0051820331204337705, 'max_depth': 3, 'eta': 1.5086480712144296e-07, 'gamma': 1.1715942103882784e-08, 'grow_policy': 'lossguide'}. Best is trial 0 with value: 0.5833333333333334.\u001b[0m\n"
          ]
        },
        {
          "output_type": "stream",
          "name": "stdout",
          "text": [
            "[0]\tvalidation-auc:0.599026\n",
            "[1]\tvalidation-auc:0.543831\n",
            "[2]\tvalidation-auc:0.527597\n",
            "[3]\tvalidation-auc:0.532468\n",
            "[4]\tvalidation-auc:0.550325\n",
            "[5]\tvalidation-auc:0.543831\n",
            "[6]\tvalidation-auc:0.537338\n",
            "[7]\tvalidation-auc:0.537338\n",
            "[8]\tvalidation-auc:0.540584\n",
            "[9]\tvalidation-auc:0.538961\n"
          ]
        },
        {
          "output_type": "stream",
          "name": "stderr",
          "text": [
            "\u001b[32m[I 2022-06-02 17:12:51,201]\u001b[0m Trial 1 finished with value: 0.5277777777777778 and parameters: {'booster': 'dart', 'lambda': 2.0833130078619587e-08, 'alpha': 5.521644699721967e-07, 'max_depth': 2, 'eta': 0.00037014413803287315, 'gamma': 0.0024492400102343027, 'grow_policy': 'depthwise', 'sample_type': 'weighted', 'normalize_type': 'forest', 'rate_drop': 1.864492287031283e-08, 'skip_drop': 3.4703271164922825e-07}. Best is trial 0 with value: 0.5833333333333334.\u001b[0m\n"
          ]
        },
        {
          "output_type": "stream",
          "name": "stdout",
          "text": [
            "[0]\tvalidation-auc:0.548701\n",
            "[1]\tvalidation-auc:0.561688\n",
            "[2]\tvalidation-auc:0.594156\n",
            "[3]\tvalidation-auc:0.633117\n",
            "[4]\tvalidation-auc:0.642857\n",
            "[5]\tvalidation-auc:0.652597\n",
            "[6]\tvalidation-auc:0.662338\n",
            "[7]\tvalidation-auc:0.659091\n",
            "[8]\tvalidation-auc:0.652597\n",
            "[9]\tvalidation-auc:0.655844\n"
          ]
        },
        {
          "output_type": "stream",
          "name": "stderr",
          "text": [
            "\u001b[32m[I 2022-06-02 17:12:51,378]\u001b[0m Trial 2 finished with value: 0.6111111111111112 and parameters: {'booster': 'gblinear', 'lambda': 0.030475097247617086, 'alpha': 3.753658128510404e-05}. Best is trial 2 with value: 0.6111111111111112.\u001b[0m\n"
          ]
        },
        {
          "output_type": "stream",
          "name": "stdout",
          "text": [
            "[0]\tvalidation-auc:0.532468\n",
            "[1]\tvalidation-auc:0.525974\n",
            "[2]\tvalidation-auc:0.538961\n",
            "[3]\tvalidation-auc:0.538961\n",
            "[4]\tvalidation-auc:0.548701\n",
            "[5]\tvalidation-auc:0.551948\n",
            "[6]\tvalidation-auc:0.555195\n",
            "[7]\tvalidation-auc:0.555195\n",
            "[8]\tvalidation-auc:0.548701\n",
            "[9]\tvalidation-auc:0.548701\n"
          ]
        },
        {
          "output_type": "stream",
          "name": "stderr",
          "text": [
            "\u001b[32m[I 2022-06-02 17:12:51,550]\u001b[0m Trial 3 finished with value: 0.5555555555555556 and parameters: {'booster': 'gblinear', 'lambda': 9.708163639332861e-07, 'alpha': 2.711406647889736e-06}. Best is trial 2 with value: 0.6111111111111112.\u001b[0m\n"
          ]
        },
        {
          "output_type": "stream",
          "name": "stdout",
          "text": [
            "[0]\tvalidation-auc:0.472403\n",
            "[1]\tvalidation-auc:0.464286\n",
            "[2]\tvalidation-auc:0.363636\n",
            "[3]\tvalidation-auc:0.363636\n",
            "[4]\tvalidation-auc:0.396104\n",
            "[5]\tvalidation-auc:0.418831\n",
            "[6]\tvalidation-auc:0.392857\n",
            "[7]\tvalidation-auc:0.37987\n",
            "[8]\tvalidation-auc:0.405844\n",
            "[9]\tvalidation-auc:0.38961\n"
          ]
        },
        {
          "output_type": "stream",
          "name": "stderr",
          "text": [
            "\u001b[32m[I 2022-06-02 17:12:51,761]\u001b[0m Trial 4 finished with value: 0.4166666666666667 and parameters: {'booster': 'gbtree', 'lambda': 1.1606910875535404e-06, 'alpha': 5.956544687881512e-08, 'max_depth': 8, 'eta': 0.12603188490338552, 'gamma': 8.751583443420966e-06, 'grow_policy': 'lossguide'}. Best is trial 2 with value: 0.6111111111111112.\u001b[0m\n",
            "\u001b[32m[I 2022-06-02 17:12:51,851]\u001b[0m Trial 5 pruned. Trial was pruned at iteration 0.\u001b[0m\n",
            "\u001b[32m[I 2022-06-02 17:12:51,941]\u001b[0m Trial 6 pruned. Trial was pruned at iteration 0.\u001b[0m\n",
            "\u001b[32m[I 2022-06-02 17:12:52,038]\u001b[0m Trial 7 pruned. Trial was pruned at iteration 0.\u001b[0m\n",
            "\u001b[32m[I 2022-06-02 17:12:52,135]\u001b[0m Trial 8 pruned. Trial was pruned at iteration 0.\u001b[0m\n"
          ]
        },
        {
          "output_type": "stream",
          "name": "stdout",
          "text": [
            "[0]\tvalidation-auc:0.592532\n",
            "[1]\tvalidation-auc:0.548701\n",
            "[2]\tvalidation-auc:0.605519\n",
            "[3]\tvalidation-auc:0.545455\n",
            "[4]\tvalidation-auc:0.545455\n",
            "[5]\tvalidation-auc:0.542208\n",
            "[6]\tvalidation-auc:0.545455\n",
            "[7]\tvalidation-auc:0.540584\n",
            "[8]\tvalidation-auc:0.547078\n",
            "[9]\tvalidation-auc:0.542208\n"
          ]
        },
        {
          "output_type": "stream",
          "name": "stderr",
          "text": [
            "\u001b[32m[I 2022-06-02 17:12:52,311]\u001b[0m Trial 9 finished with value: 0.5833333333333334 and parameters: {'booster': 'dart', 'lambda': 1.313263725069449e-05, 'alpha': 1.2867786141487219e-05, 'max_depth': 3, 'eta': 1.1061901604583867e-06, 'gamma': 1.1833117671371416e-06, 'grow_policy': 'lossguide', 'sample_type': 'uniform', 'normalize_type': 'tree', 'rate_drop': 1.1198022499178081e-06, 'skip_drop': 0.004658182466001781}. Best is trial 2 with value: 0.6111111111111112.\u001b[0m\n",
            "\u001b[32m[I 2022-06-02 17:12:52,402]\u001b[0m Trial 10 pruned. Trial was pruned at iteration 0.\u001b[0m\n",
            "\u001b[32m[I 2022-06-02 17:12:52,513]\u001b[0m Trial 11 pruned. Trial was pruned at iteration 0.\u001b[0m\n",
            "\u001b[32m[I 2022-06-02 17:12:52,623]\u001b[0m Trial 12 pruned. Trial was pruned at iteration 0.\u001b[0m\n",
            "\u001b[32m[I 2022-06-02 17:12:52,724]\u001b[0m Trial 13 pruned. Trial was pruned at iteration 0.\u001b[0m\n",
            "\u001b[32m[I 2022-06-02 17:12:52,823]\u001b[0m Trial 14 pruned. Trial was pruned at iteration 0.\u001b[0m\n",
            "\u001b[32m[I 2022-06-02 17:12:52,921]\u001b[0m Trial 15 pruned. Trial was pruned at iteration 0.\u001b[0m\n"
          ]
        },
        {
          "output_type": "stream",
          "name": "stdout",
          "text": [
            "[0]\tvalidation-auc:0.568182\n",
            "[1]\tvalidation-auc:0.571429\n",
            "[2]\tvalidation-auc:0.603896\n",
            "[3]\tvalidation-auc:0.613636\n",
            "[4]\tvalidation-auc:0.636364\n",
            "[5]\tvalidation-auc:0.636364\n",
            "[6]\tvalidation-auc:0.646104\n",
            "[7]\tvalidation-auc:0.655844\n",
            "[8]\tvalidation-auc:0.646104\n",
            "[9]\tvalidation-auc:0.642857\n"
          ]
        },
        {
          "output_type": "stream",
          "name": "stderr",
          "text": [
            "\u001b[32m[I 2022-06-02 17:12:53,083]\u001b[0m Trial 16 finished with value: 0.6111111111111112 and parameters: {'booster': 'gblinear', 'lambda': 0.022074792839411543, 'alpha': 0.00011847069851446123}. Best is trial 2 with value: 0.6111111111111112.\u001b[0m\n"
          ]
        },
        {
          "output_type": "stream",
          "name": "stdout",
          "text": [
            "[0]\tvalidation-auc:0.571429\n",
            "[1]\tvalidation-auc:0.603896\n",
            "[2]\tvalidation-auc:0.62013\n",
            "[3]\tvalidation-auc:0.646104\n",
            "[4]\tvalidation-auc:0.652597\n",
            "[5]\tvalidation-auc:0.655844\n",
            "[6]\tvalidation-auc:0.655844\n",
            "[7]\tvalidation-auc:0.646104\n",
            "[8]\tvalidation-auc:0.646104\n",
            "[9]\tvalidation-auc:0.63961\n"
          ]
        },
        {
          "output_type": "stream",
          "name": "stderr",
          "text": [
            "\u001b[32m[I 2022-06-02 17:12:53,248]\u001b[0m Trial 17 finished with value: 0.6111111111111112 and parameters: {'booster': 'gblinear', 'lambda': 0.05452078776829971, 'alpha': 0.00011011953038025383}. Best is trial 2 with value: 0.6111111111111112.\u001b[0m\n"
          ]
        },
        {
          "output_type": "stream",
          "name": "stdout",
          "text": [
            "[0]\tvalidation-auc:0.581169\n",
            "[1]\tvalidation-auc:0.607143\n",
            "[2]\tvalidation-auc:0.63961\n",
            "[3]\tvalidation-auc:0.652597\n",
            "[4]\tvalidation-auc:0.659091\n",
            "[5]\tvalidation-auc:0.672078\n",
            "[6]\tvalidation-auc:0.675325\n",
            "[7]\tvalidation-auc:0.652597\n",
            "[8]\tvalidation-auc:0.649351\n",
            "[9]\tvalidation-auc:0.649351\n"
          ]
        },
        {
          "output_type": "stream",
          "name": "stderr",
          "text": [
            "\u001b[32m[I 2022-06-02 17:12:53,421]\u001b[0m Trial 18 finished with value: 0.6111111111111112 and parameters: {'booster': 'gblinear', 'lambda': 0.06656521506659605, 'alpha': 1.1695269136146743e-08}. Best is trial 2 with value: 0.6111111111111112.\u001b[0m\n"
          ]
        },
        {
          "output_type": "stream",
          "name": "stdout",
          "text": [
            "[0]\tvalidation-auc:0.681818\n",
            "[1]\tvalidation-auc:0.672078\n",
            "[2]\tvalidation-auc:0.681818\n",
            "[3]\tvalidation-auc:0.665584\n",
            "[4]\tvalidation-auc:0.655844\n",
            "[5]\tvalidation-auc:0.655844\n",
            "[6]\tvalidation-auc:0.652597\n",
            "[7]\tvalidation-auc:0.659091\n",
            "[8]\tvalidation-auc:0.662338\n",
            "[9]\tvalidation-auc:0.668831\n"
          ]
        },
        {
          "output_type": "stream",
          "name": "stderr",
          "text": [
            "\u001b[32m[I 2022-06-02 17:12:53,596]\u001b[0m Trial 19 finished with value: 0.5833333333333334 and parameters: {'booster': 'gblinear', 'lambda': 0.5893888187112625, 'alpha': 1.071604787854792e-08}. Best is trial 2 with value: 0.6111111111111112.\u001b[0m\n"
          ]
        },
        {
          "output_type": "stream",
          "name": "stdout",
          "text": [
            "[0]\tvalidation-auc:0.600649\n",
            "[1]\tvalidation-auc:0.642857\n",
            "[2]\tvalidation-auc:0.652597\n",
            "[3]\tvalidation-auc:0.662338\n",
            "[4]\tvalidation-auc:0.665584\n",
            "[5]\tvalidation-auc:0.649351\n",
            "[6]\tvalidation-auc:0.646104\n",
            "[7]\tvalidation-auc:0.642857\n",
            "[8]\tvalidation-auc:0.642857\n",
            "[9]\tvalidation-auc:0.63961\n"
          ]
        },
        {
          "output_type": "stream",
          "name": "stderr",
          "text": [
            "\u001b[32m[I 2022-06-02 17:12:53,763]\u001b[0m Trial 20 finished with value: 0.6111111111111112 and parameters: {'booster': 'gblinear', 'lambda': 0.12259259435151999, 'alpha': 1.0512663064930394e-05}. Best is trial 2 with value: 0.6111111111111112.\u001b[0m\n"
          ]
        },
        {
          "output_type": "stream",
          "name": "stdout",
          "text": [
            "[0]\tvalidation-auc:0.61039\n",
            "[1]\tvalidation-auc:0.63961\n",
            "[2]\tvalidation-auc:0.649351\n",
            "[3]\tvalidation-auc:0.655844\n",
            "[4]\tvalidation-auc:0.659091\n",
            "[5]\tvalidation-auc:0.652597\n",
            "[6]\tvalidation-auc:0.646104\n",
            "[7]\tvalidation-auc:0.642857\n",
            "[8]\tvalidation-auc:0.63961\n",
            "[9]\tvalidation-auc:0.642857\n"
          ]
        },
        {
          "output_type": "stream",
          "name": "stderr",
          "text": [
            "\u001b[32m[I 2022-06-02 17:12:53,941]\u001b[0m Trial 21 finished with value: 0.6111111111111112 and parameters: {'booster': 'gblinear', 'lambda': 0.1061734455128735, 'alpha': 4.654318884716632e-06}. Best is trial 2 with value: 0.6111111111111112.\u001b[0m\n",
            "\u001b[32m[I 2022-06-02 17:12:54,034]\u001b[0m Trial 22 pruned. Trial was pruned at iteration 0.\u001b[0m\n"
          ]
        },
        {
          "output_type": "stream",
          "name": "stdout",
          "text": [
            "[0]\tvalidation-auc:0.652597\n",
            "[1]\tvalidation-auc:0.685065\n",
            "[2]\tvalidation-auc:0.662338\n",
            "[3]\tvalidation-auc:0.655844\n",
            "[4]\tvalidation-auc:0.659091\n",
            "[5]\tvalidation-auc:0.655844\n",
            "[6]\tvalidation-auc:0.655844\n",
            "[7]\tvalidation-auc:0.662338\n",
            "[8]\tvalidation-auc:0.646104\n",
            "[9]\tvalidation-auc:0.63961\n"
          ]
        },
        {
          "output_type": "stream",
          "name": "stderr",
          "text": [
            "\u001b[32m[I 2022-06-02 17:12:54,213]\u001b[0m Trial 23 finished with value: 0.6111111111111112 and parameters: {'booster': 'gblinear', 'lambda': 0.19863152984254126, 'alpha': 1.0083497561034846e-08}. Best is trial 2 with value: 0.6111111111111112.\u001b[0m\n"
          ]
        },
        {
          "output_type": "stream",
          "name": "stdout",
          "text": [
            "[0]\tvalidation-auc:0.681818\n",
            "[1]\tvalidation-auc:0.681818\n",
            "[2]\tvalidation-auc:0.668831\n",
            "[3]\tvalidation-auc:0.665584\n",
            "[4]\tvalidation-auc:0.662338\n",
            "[5]\tvalidation-auc:0.659091\n",
            "[6]\tvalidation-auc:0.652597\n",
            "[7]\tvalidation-auc:0.642857\n",
            "[8]\tvalidation-auc:0.649351\n",
            "[9]\tvalidation-auc:0.659091\n"
          ]
        },
        {
          "output_type": "stream",
          "name": "stderr",
          "text": [
            "\u001b[32m[I 2022-06-02 17:12:54,386]\u001b[0m Trial 24 finished with value: 0.6111111111111112 and parameters: {'booster': 'gblinear', 'lambda': 0.2934855307682667, 'alpha': 2.4130747659781618e-06}. Best is trial 2 with value: 0.6111111111111112.\u001b[0m\n",
            "\u001b[32m[I 2022-06-02 17:12:54,489]\u001b[0m Trial 25 pruned. Trial was pruned at iteration 0.\u001b[0m\n",
            "\u001b[32m[I 2022-06-02 17:12:54,609]\u001b[0m Trial 26 pruned. Trial was pruned at iteration 0.\u001b[0m\n",
            "\u001b[32m[I 2022-06-02 17:12:54,711]\u001b[0m Trial 27 pruned. Trial was pruned at iteration 0.\u001b[0m\n"
          ]
        },
        {
          "output_type": "stream",
          "name": "stdout",
          "text": [
            "[0]\tvalidation-auc:0.678571\n",
            "[1]\tvalidation-auc:0.668831\n",
            "[2]\tvalidation-auc:0.665584\n",
            "[3]\tvalidation-auc:0.655844\n",
            "[4]\tvalidation-auc:0.655844\n",
            "[5]\tvalidation-auc:0.655844\n",
            "[6]\tvalidation-auc:0.649351\n",
            "[7]\tvalidation-auc:0.646104\n",
            "[8]\tvalidation-auc:0.652597\n",
            "[9]\tvalidation-auc:0.652597\n"
          ]
        },
        {
          "output_type": "stream",
          "name": "stderr",
          "text": [
            "\u001b[32m[I 2022-06-02 17:12:54,893]\u001b[0m Trial 28 finished with value: 0.6111111111111112 and parameters: {'booster': 'gblinear', 'lambda': 0.33121550493555046, 'alpha': 1.2766415173234674e-06}. Best is trial 2 with value: 0.6111111111111112.\u001b[0m\n"
          ]
        },
        {
          "output_type": "stream",
          "name": "stdout",
          "text": [
            "[0]\tvalidation-auc:0.665584\n",
            "[1]\tvalidation-auc:0.681818\n",
            "[2]\tvalidation-auc:0.678571\n",
            "[3]\tvalidation-auc:0.672078\n",
            "[4]\tvalidation-auc:0.662338\n",
            "[5]\tvalidation-auc:0.655844\n",
            "[6]\tvalidation-auc:0.659091\n",
            "[7]\tvalidation-auc:0.662338\n",
            "[8]\tvalidation-auc:0.659091\n",
            "[9]\tvalidation-auc:0.665584\n"
          ]
        },
        {
          "output_type": "stream",
          "name": "stderr",
          "text": [
            "\u001b[32m[I 2022-06-02 17:12:55,074]\u001b[0m Trial 29 finished with value: 0.5833333333333334 and parameters: {'booster': 'gblinear', 'lambda': 0.4603704176629928, 'alpha': 1.3247231496751098e-06}. Best is trial 2 with value: 0.6111111111111112.\u001b[0m\n",
            "\u001b[32m[I 2022-06-02 17:12:55,171]\u001b[0m Trial 30 pruned. Trial was pruned at iteration 0.\u001b[0m\n"
          ]
        },
        {
          "output_type": "stream",
          "name": "stdout",
          "text": [
            "[0]\tvalidation-auc:0.665584\n",
            "[1]\tvalidation-auc:0.675325\n",
            "[2]\tvalidation-auc:0.675325\n",
            "[3]\tvalidation-auc:0.665584\n",
            "[4]\tvalidation-auc:0.652597\n",
            "[5]\tvalidation-auc:0.649351\n",
            "[6]\tvalidation-auc:0.649351\n",
            "[7]\tvalidation-auc:0.652597\n",
            "[8]\tvalidation-auc:0.652597\n",
            "[9]\tvalidation-auc:0.652597\n"
          ]
        },
        {
          "output_type": "stream",
          "name": "stderr",
          "text": [
            "\u001b[32m[I 2022-06-02 17:12:55,355]\u001b[0m Trial 31 finished with value: 0.5833333333333334 and parameters: {'booster': 'gblinear', 'lambda': 0.4310783912865813, 'alpha': 2.391673678561165e-05}. Best is trial 2 with value: 0.6111111111111112.\u001b[0m\n"
          ]
        },
        {
          "output_type": "stream",
          "name": "stdout",
          "text": [
            "[0]\tvalidation-auc:0.659091\n",
            "[1]\tvalidation-auc:0.672078\n",
            "[2]\tvalidation-auc:0.662338\n",
            "[3]\tvalidation-auc:0.662338\n",
            "[4]\tvalidation-auc:0.659091\n",
            "[5]\tvalidation-auc:0.659091\n",
            "[6]\tvalidation-auc:0.652597\n",
            "[7]\tvalidation-auc:0.649351\n",
            "[8]\tvalidation-auc:0.646104\n",
            "[9]\tvalidation-auc:0.646104\n"
          ]
        },
        {
          "output_type": "stream",
          "name": "stderr",
          "text": [
            "\u001b[32m[I 2022-06-02 17:12:55,536]\u001b[0m Trial 32 finished with value: 0.5833333333333334 and parameters: {'booster': 'gblinear', 'lambda': 0.2611728052489749, 'alpha': 2.7509418015174816e-08}. Best is trial 2 with value: 0.6111111111111112.\u001b[0m\n",
            "\u001b[32m[I 2022-06-02 17:12:55,639]\u001b[0m Trial 33 pruned. Trial was pruned at iteration 0.\u001b[0m\n",
            "\u001b[32m[I 2022-06-02 17:12:55,735]\u001b[0m Trial 34 pruned. Trial was pruned at iteration 0.\u001b[0m\n",
            "\u001b[32m[I 2022-06-02 17:12:55,828]\u001b[0m Trial 35 pruned. Trial was pruned at iteration 0.\u001b[0m\n",
            "\u001b[32m[I 2022-06-02 17:12:55,930]\u001b[0m Trial 36 pruned. Trial was pruned at iteration 0.\u001b[0m\n",
            "\u001b[32m[I 2022-06-02 17:12:56,025]\u001b[0m Trial 37 pruned. Trial was pruned at iteration 0.\u001b[0m\n",
            "\u001b[32m[I 2022-06-02 17:12:56,143]\u001b[0m Trial 38 pruned. Trial was pruned at iteration 0.\u001b[0m\n"
          ]
        },
        {
          "output_type": "stream",
          "name": "stdout",
          "text": [
            "[0]\tvalidation-auc:0.681818\n",
            "[1]\tvalidation-auc:0.681818\n",
            "[2]\tvalidation-auc:0.685065\n",
            "[3]\tvalidation-auc:0.672078\n",
            "[4]\tvalidation-auc:0.675325\n",
            "[5]\tvalidation-auc:0.675325\n",
            "[6]\tvalidation-auc:0.672078\n",
            "[7]\tvalidation-auc:0.672078\n",
            "[8]\tvalidation-auc:0.672078\n",
            "[9]\tvalidation-auc:0.688312\n"
          ]
        },
        {
          "output_type": "stream",
          "name": "stderr",
          "text": [
            "\u001b[32m[I 2022-06-02 17:12:56,319]\u001b[0m Trial 39 finished with value: 0.6111111111111112 and parameters: {'booster': 'gblinear', 'lambda': 0.9331465381844356, 'alpha': 3.3893749580978375e-06}. Best is trial 2 with value: 0.6111111111111112.\u001b[0m\n"
          ]
        },
        {
          "output_type": "stream",
          "name": "stdout",
          "text": [
            "[0]\tvalidation-auc:0.672078\n",
            "[1]\tvalidation-auc:0.678571\n",
            "[2]\tvalidation-auc:0.678571\n",
            "[3]\tvalidation-auc:0.668831\n",
            "[4]\tvalidation-auc:0.665584\n",
            "[5]\tvalidation-auc:0.668831\n",
            "[6]\tvalidation-auc:0.672078\n",
            "[7]\tvalidation-auc:0.665584\n",
            "[8]\tvalidation-auc:0.665584\n",
            "[9]\tvalidation-auc:0.672078\n"
          ]
        },
        {
          "output_type": "stream",
          "name": "stderr",
          "text": [
            "\u001b[32m[I 2022-06-02 17:12:56,504]\u001b[0m Trial 40 finished with value: 0.5833333333333334 and parameters: {'booster': 'gblinear', 'lambda': 0.7512314344715854, 'alpha': 8.447544422956306e-06}. Best is trial 2 with value: 0.6111111111111112.\u001b[0m\n"
          ]
        },
        {
          "output_type": "stream",
          "name": "stdout",
          "text": [
            "[0]\tvalidation-auc:0.613636\n",
            "[1]\tvalidation-auc:0.652597\n",
            "[2]\tvalidation-auc:0.665584\n",
            "[3]\tvalidation-auc:0.665584\n",
            "[4]\tvalidation-auc:0.655844\n",
            "[5]\tvalidation-auc:0.63961\n",
            "[6]\tvalidation-auc:0.642857\n",
            "[7]\tvalidation-auc:0.646104\n",
            "[8]\tvalidation-auc:0.63961\n",
            "[9]\tvalidation-auc:0.636364\n"
          ]
        },
        {
          "output_type": "stream",
          "name": "stderr",
          "text": [
            "\u001b[32m[I 2022-06-02 17:12:56,679]\u001b[0m Trial 41 finished with value: 0.6111111111111112 and parameters: {'booster': 'gblinear', 'lambda': 0.1465681789619733, 'alpha': 1.9858334098599276e-05}. Best is trial 2 with value: 0.6111111111111112.\u001b[0m\n"
          ]
        },
        {
          "output_type": "stream",
          "name": "stdout",
          "text": [
            "[0]\tvalidation-auc:0.652597\n",
            "[1]\tvalidation-auc:0.675325\n",
            "[2]\tvalidation-auc:0.672078\n",
            "[3]\tvalidation-auc:0.675325\n",
            "[4]\tvalidation-auc:0.665584\n",
            "[5]\tvalidation-auc:0.662338\n",
            "[6]\tvalidation-auc:0.652597\n",
            "[7]\tvalidation-auc:0.649351\n",
            "[8]\tvalidation-auc:0.649351\n",
            "[9]\tvalidation-auc:0.646104\n"
          ]
        },
        {
          "output_type": "stream",
          "name": "stderr",
          "text": [
            "\u001b[32m[I 2022-06-02 17:12:56,863]\u001b[0m Trial 42 finished with value: 0.6111111111111112 and parameters: {'booster': 'gblinear', 'lambda': 0.2567842716919653, 'alpha': 3.054036352992012e-06}. Best is trial 2 with value: 0.6111111111111112.\u001b[0m\n",
            "\u001b[32m[I 2022-06-02 17:12:56,959]\u001b[0m Trial 43 pruned. Trial was pruned at iteration 0.\u001b[0m\n"
          ]
        },
        {
          "output_type": "stream",
          "name": "stdout",
          "text": [
            "[0]\tvalidation-auc:0.613636\n"
          ]
        },
        {
          "output_type": "stream",
          "name": "stderr",
          "text": [
            "\u001b[32m[I 2022-06-02 17:12:57,063]\u001b[0m Trial 44 pruned. Trial was pruned at iteration 1.\u001b[0m\n",
            "\u001b[32m[I 2022-06-02 17:12:57,160]\u001b[0m Trial 45 pruned. Trial was pruned at iteration 0.\u001b[0m\n",
            "\u001b[32m[I 2022-06-02 17:12:57,267]\u001b[0m Trial 46 pruned. Trial was pruned at iteration 0.\u001b[0m\n",
            "\u001b[32m[I 2022-06-02 17:12:57,362]\u001b[0m Trial 47 pruned. Trial was pruned at iteration 0.\u001b[0m\n",
            "\u001b[32m[I 2022-06-02 17:12:57,467]\u001b[0m Trial 48 pruned. Trial was pruned at iteration 0.\u001b[0m\n"
          ]
        },
        {
          "output_type": "stream",
          "name": "stdout",
          "text": [
            "[0]\tvalidation-auc:0.646104\n",
            "[1]\tvalidation-auc:0.668831\n",
            "[2]\tvalidation-auc:0.672078\n",
            "[3]\tvalidation-auc:0.665584\n",
            "[4]\tvalidation-auc:0.655844\n",
            "[5]\tvalidation-auc:0.665584\n",
            "[6]\tvalidation-auc:0.659091\n",
            "[7]\tvalidation-auc:0.646104\n",
            "[8]\tvalidation-auc:0.652597\n",
            "[9]\tvalidation-auc:0.646104\n"
          ]
        },
        {
          "output_type": "stream",
          "name": "stderr",
          "text": [
            "\u001b[32m[I 2022-06-02 17:12:57,649]\u001b[0m Trial 49 finished with value: 0.6111111111111112 and parameters: {'booster': 'gblinear', 'lambda': 0.16865589219627294, 'alpha': 1.6883506586933825e-07}. Best is trial 2 with value: 0.6111111111111112.\u001b[0m\n"
          ]
        },
        {
          "output_type": "stream",
          "name": "stdout",
          "text": [
            "[0]\tvalidation-auc:0.662338\n",
            "[1]\tvalidation-auc:0.672078\n",
            "[2]\tvalidation-auc:0.662338\n",
            "[3]\tvalidation-auc:0.655844\n",
            "[4]\tvalidation-auc:0.646104\n",
            "[5]\tvalidation-auc:0.649351\n",
            "[6]\tvalidation-auc:0.646104\n",
            "[7]\tvalidation-auc:0.642857\n",
            "[8]\tvalidation-auc:0.649351\n",
            "[9]\tvalidation-auc:0.649351\n"
          ]
        },
        {
          "output_type": "stream",
          "name": "stderr",
          "text": [
            "\u001b[32m[I 2022-06-02 17:12:57,828]\u001b[0m Trial 50 finished with value: 0.5833333333333334 and parameters: {'booster': 'gblinear', 'lambda': 0.37289073887443636, 'alpha': 2.0324268293877632e-06}. Best is trial 2 with value: 0.6111111111111112.\u001b[0m\n",
            "\u001b[32m[I 2022-06-02 17:12:57,921]\u001b[0m Trial 51 pruned. Trial was pruned at iteration 0.\u001b[0m\n"
          ]
        },
        {
          "output_type": "stream",
          "name": "stdout",
          "text": [
            "[0]\tvalidation-auc:0.685065\n",
            "[1]\tvalidation-auc:0.675325\n",
            "[2]\tvalidation-auc:0.675325\n",
            "[3]\tvalidation-auc:0.665584\n",
            "[4]\tvalidation-auc:0.659091\n",
            "[5]\tvalidation-auc:0.665584\n",
            "[6]\tvalidation-auc:0.665584\n",
            "[7]\tvalidation-auc:0.665584\n",
            "[8]\tvalidation-auc:0.665584\n",
            "[9]\tvalidation-auc:0.672078\n"
          ]
        },
        {
          "output_type": "stream",
          "name": "stderr",
          "text": [
            "\u001b[32m[I 2022-06-02 17:12:58,101]\u001b[0m Trial 52 finished with value: 0.5833333333333334 and parameters: {'booster': 'gblinear', 'lambda': 0.660157118881854, 'alpha': 1.7988721347881815e-05}. Best is trial 2 with value: 0.6111111111111112.\u001b[0m\n",
            "\u001b[32m[I 2022-06-02 17:12:58,214]\u001b[0m Trial 53 pruned. Trial was pruned at iteration 0.\u001b[0m\n",
            "\u001b[32m[I 2022-06-02 17:12:58,327]\u001b[0m Trial 54 pruned. Trial was pruned at iteration 0.\u001b[0m\n",
            "\u001b[32m[I 2022-06-02 17:12:58,422]\u001b[0m Trial 55 pruned. Trial was pruned at iteration 0.\u001b[0m\n",
            "\u001b[32m[I 2022-06-02 17:12:58,514]\u001b[0m Trial 56 pruned. Trial was pruned at iteration 0.\u001b[0m\n"
          ]
        },
        {
          "output_type": "stream",
          "name": "stdout",
          "text": [
            "[0]\tvalidation-auc:0.659091\n",
            "[1]\tvalidation-auc:0.672078\n",
            "[2]\tvalidation-auc:0.662338\n",
            "[3]\tvalidation-auc:0.675325\n",
            "[4]\tvalidation-auc:0.655844\n",
            "[5]\tvalidation-auc:0.655844\n",
            "[6]\tvalidation-auc:0.649351\n",
            "[7]\tvalidation-auc:0.642857\n",
            "[8]\tvalidation-auc:0.646104\n",
            "[9]\tvalidation-auc:0.63961\n"
          ]
        },
        {
          "output_type": "stream",
          "name": "stderr",
          "text": [
            "\u001b[32m[I 2022-06-02 17:12:58,696]\u001b[0m Trial 57 finished with value: 0.6111111111111112 and parameters: {'booster': 'gblinear', 'lambda': 0.25143263091776985, 'alpha': 0.00013446709709358945}. Best is trial 2 with value: 0.6111111111111112.\u001b[0m\n"
          ]
        },
        {
          "output_type": "stream",
          "name": "stdout",
          "text": [
            "[0]\tvalidation-auc:0.675325\n",
            "[1]\tvalidation-auc:0.675325\n",
            "[2]\tvalidation-auc:0.688312\n",
            "[3]\tvalidation-auc:0.681818\n",
            "[4]\tvalidation-auc:0.675325\n",
            "[5]\tvalidation-auc:0.675325\n",
            "[6]\tvalidation-auc:0.672078\n",
            "[7]\tvalidation-auc:0.688312\n",
            "[8]\tvalidation-auc:0.691558\n",
            "[9]\tvalidation-auc:0.691558\n"
          ]
        },
        {
          "output_type": "stream",
          "name": "stderr",
          "text": [
            "\u001b[32m[I 2022-06-02 17:12:58,867]\u001b[0m Trial 58 finished with value: 0.5833333333333334 and parameters: {'booster': 'gblinear', 'lambda': 0.9034103748244214, 'alpha': 3.6504416779762378e-06}. Best is trial 2 with value: 0.6111111111111112.\u001b[0m\n",
            "\u001b[32m[I 2022-06-02 17:12:58,975]\u001b[0m Trial 59 pruned. Trial was pruned at iteration 0.\u001b[0m\n",
            "\u001b[32m[I 2022-06-02 17:12:59,073]\u001b[0m Trial 60 pruned. Trial was pruned at iteration 0.\u001b[0m\n",
            "\u001b[32m[I 2022-06-02 17:12:59,164]\u001b[0m Trial 61 pruned. Trial was pruned at iteration 0.\u001b[0m\n",
            "\u001b[32m[I 2022-06-02 17:12:59,253]\u001b[0m Trial 62 pruned. Trial was pruned at iteration 0.\u001b[0m\n",
            "\u001b[32m[I 2022-06-02 17:12:59,349]\u001b[0m Trial 63 pruned. Trial was pruned at iteration 0.\u001b[0m\n"
          ]
        },
        {
          "output_type": "stream",
          "name": "stdout",
          "text": [
            "[0]\tvalidation-auc:0.681818\n",
            "[1]\tvalidation-auc:0.678571\n",
            "[2]\tvalidation-auc:0.662338\n",
            "[3]\tvalidation-auc:0.662338\n",
            "[4]\tvalidation-auc:0.655844\n",
            "[5]\tvalidation-auc:0.655844\n",
            "[6]\tvalidation-auc:0.649351\n",
            "[7]\tvalidation-auc:0.649351\n",
            "[8]\tvalidation-auc:0.652597\n",
            "[9]\tvalidation-auc:0.652597\n"
          ]
        },
        {
          "output_type": "stream",
          "name": "stderr",
          "text": [
            "\u001b[32m[I 2022-06-02 17:12:59,525]\u001b[0m Trial 64 finished with value: 0.5833333333333334 and parameters: {'booster': 'gblinear', 'lambda': 0.3575168599466011, 'alpha': 4.8088685005662895e-08}. Best is trial 2 with value: 0.6111111111111112.\u001b[0m\n",
            "\u001b[32m[I 2022-06-02 17:12:59,629]\u001b[0m Trial 65 pruned. Trial was pruned at iteration 0.\u001b[0m\n",
            "\u001b[32m[I 2022-06-02 17:12:59,731]\u001b[0m Trial 66 pruned. Trial was pruned at iteration 0.\u001b[0m\n",
            "\u001b[32m[I 2022-06-02 17:12:59,827]\u001b[0m Trial 67 pruned. Trial was pruned at iteration 0.\u001b[0m\n",
            "\u001b[32m[I 2022-06-02 17:12:59,934]\u001b[0m Trial 68 pruned. Trial was pruned at iteration 0.\u001b[0m\n",
            "\u001b[32m[I 2022-06-02 17:13:00,030]\u001b[0m Trial 69 pruned. Trial was pruned at iteration 0.\u001b[0m\n"
          ]
        },
        {
          "output_type": "stream",
          "name": "stdout",
          "text": [
            "[0]\tvalidation-auc:0.678571\n",
            "[1]\tvalidation-auc:0.665584\n",
            "[2]\tvalidation-auc:0.672078\n",
            "[3]\tvalidation-auc:0.672078\n",
            "[4]\tvalidation-auc:0.678571\n",
            "[5]\tvalidation-auc:0.688312\n",
            "[6]\tvalidation-auc:0.688312\n",
            "[7]\tvalidation-auc:0.694805\n",
            "[8]\tvalidation-auc:0.698052\n",
            "[9]\tvalidation-auc:0.698052\n"
          ]
        },
        {
          "output_type": "stream",
          "name": "stderr",
          "text": [
            "\u001b[32m[I 2022-06-02 17:13:00,213]\u001b[0m Trial 70 finished with value: 0.5833333333333334 and parameters: {'booster': 'gblinear', 'lambda': 0.9072948410507382, 'alpha': 2.3992907664011372e-06}. Best is trial 2 with value: 0.6111111111111112.\u001b[0m\n",
            "\u001b[32m[I 2022-06-02 17:13:00,304]\u001b[0m Trial 71 pruned. Trial was pruned at iteration 0.\u001b[0m\n",
            "\u001b[32m[I 2022-06-02 17:13:00,404]\u001b[0m Trial 72 pruned. Trial was pruned at iteration 0.\u001b[0m\n",
            "\u001b[32m[I 2022-06-02 17:13:00,500]\u001b[0m Trial 73 pruned. Trial was pruned at iteration 0.\u001b[0m\n",
            "\u001b[32m[I 2022-06-02 17:13:00,600]\u001b[0m Trial 74 pruned. Trial was pruned at iteration 0.\u001b[0m\n",
            "\u001b[32m[I 2022-06-02 17:13:00,734]\u001b[0m Trial 75 pruned. Trial was pruned at iteration 0.\u001b[0m\n"
          ]
        },
        {
          "output_type": "stream",
          "name": "stdout",
          "text": [
            "[0]\tvalidation-auc:0.691558\n",
            "[1]\tvalidation-auc:0.665584\n",
            "[2]\tvalidation-auc:0.678571\n",
            "[3]\tvalidation-auc:0.659091\n",
            "[4]\tvalidation-auc:0.655844\n",
            "[5]\tvalidation-auc:0.655844\n",
            "[6]\tvalidation-auc:0.655844\n",
            "[7]\tvalidation-auc:0.649351\n",
            "[8]\tvalidation-auc:0.655844\n",
            "[9]\tvalidation-auc:0.665584\n"
          ]
        },
        {
          "output_type": "stream",
          "name": "stderr",
          "text": [
            "\u001b[32m[I 2022-06-02 17:13:00,920]\u001b[0m Trial 76 finished with value: 0.5833333333333334 and parameters: {'booster': 'gblinear', 'lambda': 0.5484238763014397, 'alpha': 3.4534215773212926e-07}. Best is trial 2 with value: 0.6111111111111112.\u001b[0m\n",
            "\u001b[32m[I 2022-06-02 17:13:01,012]\u001b[0m Trial 77 pruned. Trial was pruned at iteration 0.\u001b[0m\n",
            "\u001b[32m[I 2022-06-02 17:13:01,130]\u001b[0m Trial 78 pruned. Trial was pruned at iteration 0.\u001b[0m\n",
            "\u001b[32m[I 2022-06-02 17:13:01,230]\u001b[0m Trial 79 pruned. Trial was pruned at iteration 0.\u001b[0m\n"
          ]
        },
        {
          "output_type": "stream",
          "name": "stdout",
          "text": [
            "[0]\tvalidation-auc:0.668831\n",
            "[1]\tvalidation-auc:0.685065\n",
            "[2]\tvalidation-auc:0.665584\n",
            "[3]\tvalidation-auc:0.649351\n",
            "[4]\tvalidation-auc:0.655844\n",
            "[5]\tvalidation-auc:0.649351\n",
            "[6]\tvalidation-auc:0.649351\n",
            "[7]\tvalidation-auc:0.649351\n",
            "[8]\tvalidation-auc:0.655844\n",
            "[9]\tvalidation-auc:0.652597\n"
          ]
        },
        {
          "output_type": "stream",
          "name": "stderr",
          "text": [
            "\u001b[32m[I 2022-06-02 17:13:01,413]\u001b[0m Trial 80 finished with value: 0.6111111111111112 and parameters: {'booster': 'gblinear', 'lambda': 0.34619035635638506, 'alpha': 8.356804397645215e-07}. Best is trial 2 with value: 0.6111111111111112.\u001b[0m\n",
            "\u001b[32m[I 2022-06-02 17:13:01,512]\u001b[0m Trial 81 pruned. Trial was pruned at iteration 0.\u001b[0m\n",
            "\u001b[32m[I 2022-06-02 17:13:01,610]\u001b[0m Trial 82 pruned. Trial was pruned at iteration 0.\u001b[0m\n",
            "\u001b[32m[I 2022-06-02 17:13:01,714]\u001b[0m Trial 83 pruned. Trial was pruned at iteration 0.\u001b[0m\n"
          ]
        },
        {
          "output_type": "stream",
          "name": "stdout",
          "text": [
            "[0]\tvalidation-auc:0.672078\n",
            "[1]\tvalidation-auc:0.701299\n",
            "[2]\tvalidation-auc:0.688312\n",
            "[3]\tvalidation-auc:0.688312\n",
            "[4]\tvalidation-auc:0.672078\n",
            "[5]\tvalidation-auc:0.675325\n",
            "[6]\tvalidation-auc:0.668831\n",
            "[7]\tvalidation-auc:0.655844\n",
            "[8]\tvalidation-auc:0.649351\n",
            "[9]\tvalidation-auc:0.649351\n"
          ]
        },
        {
          "output_type": "stream",
          "name": "stderr",
          "text": [
            "\u001b[32m[I 2022-06-02 17:13:01,898]\u001b[0m Trial 84 finished with value: 0.6111111111111112 and parameters: {'booster': 'gblinear', 'lambda': 0.16620263128538051, 'alpha': 1.7596444305966254e-08}. Best is trial 2 with value: 0.6111111111111112.\u001b[0m\n"
          ]
        },
        {
          "output_type": "stream",
          "name": "stdout",
          "text": [
            "[0]\tvalidation-auc:0.668831\n",
            "[1]\tvalidation-auc:0.672078\n",
            "[2]\tvalidation-auc:0.659091\n",
            "[3]\tvalidation-auc:0.649351\n",
            "[4]\tvalidation-auc:0.659091\n",
            "[5]\tvalidation-auc:0.655844\n",
            "[6]\tvalidation-auc:0.649351\n",
            "[7]\tvalidation-auc:0.649351\n",
            "[8]\tvalidation-auc:0.652597\n",
            "[9]\tvalidation-auc:0.649351\n"
          ]
        },
        {
          "output_type": "stream",
          "name": "stderr",
          "text": [
            "\u001b[32m[I 2022-06-02 17:13:02,068]\u001b[0m Trial 85 finished with value: 0.6111111111111112 and parameters: {'booster': 'gblinear', 'lambda': 0.2878274934072311, 'alpha': 6.703913351037345e-07}. Best is trial 2 with value: 0.6111111111111112.\u001b[0m\n",
            "\u001b[32m[I 2022-06-02 17:13:02,163]\u001b[0m Trial 86 pruned. Trial was pruned at iteration 0.\u001b[0m\n"
          ]
        },
        {
          "output_type": "stream",
          "name": "stdout",
          "text": [
            "[0]\tvalidation-auc:0.688312\n",
            "[1]\tvalidation-auc:0.685065\n",
            "[2]\tvalidation-auc:0.678571\n",
            "[3]\tvalidation-auc:0.668831\n",
            "[4]\tvalidation-auc:0.665584\n",
            "[5]\tvalidation-auc:0.668831\n",
            "[6]\tvalidation-auc:0.665584\n",
            "[7]\tvalidation-auc:0.662338\n",
            "[8]\tvalidation-auc:0.672078\n",
            "[9]\tvalidation-auc:0.665584\n"
          ]
        },
        {
          "output_type": "stream",
          "name": "stderr",
          "text": [
            "\u001b[32m[I 2022-06-02 17:13:02,345]\u001b[0m Trial 87 finished with value: 0.5833333333333334 and parameters: {'booster': 'gblinear', 'lambda': 0.5842922472358862, 'alpha': 6.269260721479115e-08}. Best is trial 2 with value: 0.6111111111111112.\u001b[0m\n",
            "\u001b[32m[I 2022-06-02 17:13:02,437]\u001b[0m Trial 88 pruned. Trial was pruned at iteration 0.\u001b[0m\n",
            "\u001b[32m[I 2022-06-02 17:13:02,540]\u001b[0m Trial 89 pruned. Trial was pruned at iteration 0.\u001b[0m\n",
            "\u001b[32m[I 2022-06-02 17:13:02,673]\u001b[0m Trial 90 pruned. Trial was pruned at iteration 0.\u001b[0m\n",
            "\u001b[32m[I 2022-06-02 17:13:02,769]\u001b[0m Trial 91 pruned. Trial was pruned at iteration 0.\u001b[0m\n",
            "\u001b[32m[I 2022-06-02 17:13:02,864]\u001b[0m Trial 92 pruned. Trial was pruned at iteration 0.\u001b[0m\n"
          ]
        },
        {
          "output_type": "stream",
          "name": "stdout",
          "text": [
            "[0]\tvalidation-auc:0.688312\n",
            "[1]\tvalidation-auc:0.678571\n",
            "[2]\tvalidation-auc:0.672078\n",
            "[3]\tvalidation-auc:0.672078\n",
            "[4]\tvalidation-auc:0.675325\n",
            "[5]\tvalidation-auc:0.678571\n",
            "[6]\tvalidation-auc:0.678571\n",
            "[7]\tvalidation-auc:0.672078\n",
            "[8]\tvalidation-auc:0.675325\n",
            "[9]\tvalidation-auc:0.685065\n"
          ]
        },
        {
          "output_type": "stream",
          "name": "stderr",
          "text": [
            "\u001b[32m[I 2022-06-02 17:13:03,050]\u001b[0m Trial 93 finished with value: 0.5833333333333334 and parameters: {'booster': 'gblinear', 'lambda': 0.9137835636225653, 'alpha': 3.929348201199006e-06}. Best is trial 2 with value: 0.6111111111111112.\u001b[0m\n",
            "\u001b[32m[I 2022-06-02 17:13:03,144]\u001b[0m Trial 94 pruned. Trial was pruned at iteration 0.\u001b[0m\n"
          ]
        },
        {
          "output_type": "stream",
          "name": "stdout",
          "text": [
            "[0]\tvalidation-auc:0.668831\n",
            "[1]\tvalidation-auc:0.675325\n",
            "[2]\tvalidation-auc:0.681818\n",
            "[3]\tvalidation-auc:0.665584\n",
            "[4]\tvalidation-auc:0.652597\n",
            "[5]\tvalidation-auc:0.655844\n",
            "[6]\tvalidation-auc:0.659091\n",
            "[7]\tvalidation-auc:0.662338\n",
            "[8]\tvalidation-auc:0.662338\n",
            "[9]\tvalidation-auc:0.662338\n"
          ]
        },
        {
          "output_type": "stream",
          "name": "stderr",
          "text": [
            "\u001b[32m[I 2022-06-02 17:13:03,320]\u001b[0m Trial 95 finished with value: 0.5833333333333334 and parameters: {'booster': 'gblinear', 'lambda': 0.5078823815432375, 'alpha': 1.4413684163468104e-08}. Best is trial 2 with value: 0.6111111111111112.\u001b[0m\n",
            "\u001b[32m[I 2022-06-02 17:13:03,415]\u001b[0m Trial 96 pruned. Trial was pruned at iteration 0.\u001b[0m\n",
            "\u001b[32m[I 2022-06-02 17:13:03,521]\u001b[0m Trial 97 pruned. Trial was pruned at iteration 0.\u001b[0m\n",
            "\u001b[32m[I 2022-06-02 17:13:03,622]\u001b[0m Trial 98 pruned. Trial was pruned at iteration 0.\u001b[0m\n",
            "\u001b[32m[I 2022-06-02 17:13:03,730]\u001b[0m Trial 99 pruned. Trial was pruned at iteration 0.\u001b[0m\n"
          ]
        },
        {
          "output_type": "stream",
          "name": "stdout",
          "text": [
            "Accuracy : %f 0.6111111111111112\n",
            "Best HyperParamteters : %f {'booster': 'gblinear', 'lambda': 0.030475097247617086, 'alpha': 3.753658128510404e-05}\n"
          ]
        }
      ]
    },
    {
      "cell_type": "markdown",
      "source": [
        "### Accuracy \n",
        "0.6111111111111112\n",
        "\n",
        "### Best HyperParamteters \n",
        "'booster': 'gblinear', \n",
        "\n",
        "'lambda': 0.030475097247617086, \n",
        "\n",
        "'alpha': 3.753658128510404e-05"
      ],
      "metadata": {
        "id": "XO-oTIn0dvdV"
      }
    },
    {
      "cell_type": "markdown",
      "source": [
        "## For a problem as sensitive as Cancer, Evaluation metrics such as \"Recall\" or \"F1 Score\" are more important than \"Accuracy\" because the focus is on ensuring the highest number of people who have cancer are predicted to have cancer and so I will be using \"Recall\" as my evaluation metric here"
      ],
      "metadata": {
        "id": "zKJIAXUpgodh"
      }
    },
    {
      "cell_type": "code",
      "source": [
        "def objective(trial):\n",
        "  X = pd.read_csv(\"/content/drive/My Drive/David_Enoma_PhD_Project/Xsubset.csv\",header=None)\n",
        "  y = pd.read_csv(\"/content/drive/My Drive/David_Enoma_PhD_Project/hapmap_phenotype_recoded.txt\", sep = \" \", header = None)\n",
        "  y.replace([1,2], [0,1], inplace = True)\n",
        "  X_train, X_test, y_train, y_test = train_test_split(X, y, test_size = 0.33, random_state = 234)\n",
        "  dtrain = xgb.DMatrix(X_train, label = y_train)\n",
        "  dtest = xgb.DMatrix(X_test, label = y_test)\n",
        "  param = {\n",
        "      \"verbosity\": 0,\n",
        "      # logistic regression for binary classification, output probability\n",
        "      \"objective\": \"binary:logistic\",\n",
        "      # use exact for small dataset.\n",
        "      \"tree_method\": \"auto\",\n",
        "      \"eval_metric\": \"auc\",\n",
        "      # The booster parameter sets the type of learner. Usually this is either a tree \n",
        "      # or a linear function. In the case of trees, the model will consist of an ensemble \n",
        "      # of trees. For the linear booster, it will be a weighted sum of linear functions.\n",
        "      # defines booster, gblinear for linear functions.\n",
        "      \"booster\": trial.suggest_categorical(\"booster\", [\"gbtree\", \"gblinear\", \"dart\"]),\n",
        "      # L2 regularization weight.\n",
        "      \"lambda\": trial.suggest_float(\"lambda\", 1e-8, 1.0, log = True), \n",
        "      # L1 regularization weight.\n",
        "      \"alpha\": trial.suggest_float(\"alpha\", 1e-8, 1.0, log = True),\n",
        "      # sampling ratio for training data.\n",
        "      \"subsample\": trial.suggest_float(\"subsample\", 0.2, 1.0),\n",
        "      # sampling according to each tree.\n",
        "      \"colsample_bytree\": trial.suggest_float(\"colsample_bytree\", 0.2, 1.0),\n",
        "  }\n",
        "\n",
        "  if param[\"booster\"] == \"gbtree\" or param[\"booster\"] == \"dart\":\n",
        "    # maximum depth of the tree, signifies complexity of the tree.\n",
        "    param[\"max_depth\"] = trial.suggest_int(\"max_depth\", 1, 7, step=2)\n",
        "    # minimum child weight, larger the term more conservative the tree.\n",
        "    param[\"min_child_weight\"] = trial.suggest_int(\"min_child_weight\", 2, 10)\n",
        "    # \"eta\" shrinks the feature weights to make the boosting process more conservative.\n",
        "    param[\"eta\"]= trial.suggest_float(\"eta\", 1e-8, 1.0, log = True)\n",
        "    # Minimum loss reduction required to make a further partition on a leaf node of the tree. \n",
        "    # The larger gamma is, the more conservative the algorithm will be.\n",
        "    param[\"gamma\"]= trial.suggest_float(\"gamma\", 1e-8, 1.0, log = True)\n",
        "    #  Controls the way new nodes are added to the tree.\n",
        "    param[\"grow_policy\"] = trial.suggest_categorical(\"grow_policy\", [\"depthwise\", \"lossguide\"])\n",
        "    \n",
        "  if param[\"booster\"] == \"dart\":\n",
        "    # Type of sampling algorithm.\n",
        "    param[\"sample_type\"]=trial.suggest_categorical(\"sample_type\", [\"uniform\", \"weighted\"])\n",
        "    # Type of normalization algorithm.\n",
        "    param[\"normalize_type\"]=trial.suggest_categorical(\"normalize_type\", [\"tree\", \"forest\"])\n",
        "    # Dropout rate (a fraction of previous trees to drop during the dropout).\n",
        "    param[\"rate_drop\"] = trial.suggest_float(\"rate_drop\", 1e-8, 1.0, log = True)\n",
        "    # Probability of skipping the dropout procedure during a boosting iteration.\n",
        "    param[\"skip_drop\"] = trial.suggest_float(\"skip_drop\", 1e-8, 1.0, log = True)\n",
        "\n",
        "\n",
        "  # Call Back for Pruning\n",
        "  # Pruning is used to terminate unpromising trials early, so that computing time can be used for trials that show more potential.\n",
        "  pruning_callback = optuna.integration.XGBoostPruningCallback(trial, \"validation-auc\")\n",
        "  bst = xgb.train(param, dtrain, evals = [(dtest, \"validation\")], callbacks = [pruning_callback])\n",
        "  preds = bst.predict(dtest)\n",
        "  # np.rint means return integer. It rounds up elements to the nearest integer. \n",
        "  # This is done so we can use accuracy_score because \"binary:logistic\" outputs probability not discrete numbers [0,1] but the probability of each sample being 1\n",
        "  pred_labels = np.rint(preds)\n",
        "  Recall = recall_score(y_test, pred_labels)\n",
        "  return Recall"
      ],
      "metadata": {
        "id": "at2caGAlmbr5"
      },
      "execution_count": 74,
      "outputs": []
    },
    {
      "cell_type": "code",
      "source": [
        "study = optuna.create_study(direction=\"maximize\")\n",
        "study.optimize(objective, n_trials = 100, timeout=600)\n",
        "trial = study.best_trial\n",
        "\n",
        "print(\"Recall : %f\", trial.value)\n",
        "print(\"Best HyperParamteters : %f\", trial.params)"
      ],
      "metadata": {
        "colab": {
          "base_uri": "https://localhost:8080/"
        },
        "id": "HSoko_C9Iwnv",
        "outputId": "72817a94-12aa-470c-9714-35407e7627e2"
      },
      "execution_count": 73,
      "outputs": [
        {
          "output_type": "stream",
          "name": "stderr",
          "text": [
            "\u001b[32m[I 2022-06-02 17:38:47,803]\u001b[0m A new study created in memory with name: no-name-51a4781b-0934-418f-a61f-a177cffb35d4\u001b[0m\n"
          ]
        },
        {
          "output_type": "stream",
          "name": "stdout",
          "text": [
            "[0]\tvalidation-auc:0.626623\n",
            "[1]\tvalidation-auc:0.63961\n",
            "[2]\tvalidation-auc:0.62987\n",
            "[3]\tvalidation-auc:0.603896\n",
            "[4]\tvalidation-auc:0.594156\n",
            "[5]\tvalidation-auc:0.600649\n",
            "[6]\tvalidation-auc:0.587662\n",
            "[7]\tvalidation-auc:0.581169\n",
            "[8]\tvalidation-auc:0.584416\n",
            "[9]\tvalidation-auc:0.577922\n"
          ]
        },
        {
          "output_type": "stream",
          "name": "stderr",
          "text": [
            "\u001b[32m[I 2022-06-02 17:38:48,156]\u001b[0m Trial 0 finished with value: 0.7857142857142857 and parameters: {'booster': 'gblinear', 'lambda': 5.491115673572802e-08, 'alpha': 0.002810245821911446, 'subsample': 0.587167981915971, 'colsample_bytree': 0.37519211627122084}. Best is trial 0 with value: 0.7857142857142857.\u001b[0m\n"
          ]
        },
        {
          "output_type": "stream",
          "name": "stdout",
          "text": [
            "[0]\tvalidation-auc:0.548701\n",
            "[1]\tvalidation-auc:0.571429\n",
            "[2]\tvalidation-auc:0.623377\n",
            "[3]\tvalidation-auc:0.626623\n",
            "[4]\tvalidation-auc:0.631494\n",
            "[5]\tvalidation-auc:0.623377\n",
            "[6]\tvalidation-auc:0.616883\n",
            "[7]\tvalidation-auc:0.61526\n",
            "[8]\tvalidation-auc:0.618506\n",
            "[9]\tvalidation-auc:0.568182\n"
          ]
        },
        {
          "output_type": "stream",
          "name": "stderr",
          "text": [
            "\u001b[32m[I 2022-06-02 17:38:48,503]\u001b[0m Trial 1 finished with value: 0.7142857142857143 and parameters: {'booster': 'dart', 'lambda': 0.00027626960218040563, 'alpha': 0.5867635045050236, 'subsample': 0.6608825479286826, 'colsample_bytree': 0.38627499741087096, 'max_depth': 1, 'min_child_weight': 5, 'eta': 1.4474382771489371e-06, 'gamma': 4.5679746479102705e-07, 'grow_policy': 'lossguide', 'sample_type': 'weighted', 'normalize_type': 'forest', 'rate_drop': 0.008106881402335753, 'skip_drop': 0.013935454738290267}. Best is trial 0 with value: 0.7857142857142857.\u001b[0m\n"
          ]
        },
        {
          "output_type": "stream",
          "name": "stdout",
          "text": [
            "[0]\tvalidation-auc:0.5\n",
            "[1]\tvalidation-auc:0.5\n",
            "[2]\tvalidation-auc:0.5\n",
            "[3]\tvalidation-auc:0.5\n",
            "[4]\tvalidation-auc:0.5\n",
            "[5]\tvalidation-auc:0.5\n",
            "[6]\tvalidation-auc:0.5\n",
            "[7]\tvalidation-auc:0.5\n",
            "[8]\tvalidation-auc:0.5\n",
            "[9]\tvalidation-auc:0.5\n"
          ]
        },
        {
          "output_type": "stream",
          "name": "stderr",
          "text": [
            "\u001b[32m[I 2022-06-02 17:38:48,893]\u001b[0m Trial 2 finished with value: 1.0 and parameters: {'booster': 'dart', 'lambda': 8.669790267915281e-07, 'alpha': 1.1536382592082632e-08, 'subsample': 0.28469669085250404, 'colsample_bytree': 0.5566590888822147, 'max_depth': 7, 'min_child_weight': 10, 'eta': 0.003933096882701822, 'gamma': 0.0018015367008443472, 'grow_policy': 'lossguide', 'sample_type': 'weighted', 'normalize_type': 'forest', 'rate_drop': 8.829825957910605e-06, 'skip_drop': 5.189332052983798e-07}. Best is trial 2 with value: 1.0.\u001b[0m\n"
          ]
        },
        {
          "output_type": "stream",
          "name": "stdout",
          "text": [
            "[0]\tvalidation-auc:0.545455\n",
            "[1]\tvalidation-auc:0.548701\n",
            "[2]\tvalidation-auc:0.532468\n",
            "[3]\tvalidation-auc:0.542208\n",
            "[4]\tvalidation-auc:0.542208\n",
            "[5]\tvalidation-auc:0.555195\n",
            "[6]\tvalidation-auc:0.548701\n",
            "[7]\tvalidation-auc:0.574675\n",
            "[8]\tvalidation-auc:0.564935\n",
            "[9]\tvalidation-auc:0.568182\n"
          ]
        },
        {
          "output_type": "stream",
          "name": "stderr",
          "text": [
            "\u001b[32m[I 2022-06-02 17:38:49,323]\u001b[0m Trial 3 finished with value: 0.7142857142857143 and parameters: {'booster': 'gblinear', 'lambda': 2.0014179227598036e-07, 'alpha': 0.0019411170353898178, 'subsample': 0.8554244416963153, 'colsample_bytree': 0.32293255318158204}. Best is trial 2 with value: 1.0.\u001b[0m\n"
          ]
        },
        {
          "output_type": "stream",
          "name": "stdout",
          "text": [
            "[0]\tvalidation-auc:0.483766\n",
            "[1]\tvalidation-auc:0.483766\n",
            "[2]\tvalidation-auc:0.483766\n",
            "[3]\tvalidation-auc:0.483766\n",
            "[4]\tvalidation-auc:0.483766\n",
            "[5]\tvalidation-auc:0.483766\n",
            "[6]\tvalidation-auc:0.483766\n",
            "[7]\tvalidation-auc:0.483766\n",
            "[8]\tvalidation-auc:0.483766\n",
            "[9]\tvalidation-auc:0.483766\n"
          ]
        },
        {
          "output_type": "stream",
          "name": "stderr",
          "text": [
            "\u001b[32m[I 2022-06-02 17:38:49,813]\u001b[0m Trial 4 finished with value: 1.0 and parameters: {'booster': 'gblinear', 'lambda': 5.418231021152819e-07, 'alpha': 0.125013443937533, 'subsample': 0.5233839112296172, 'colsample_bytree': 0.37790130961603396}. Best is trial 2 with value: 1.0.\u001b[0m\n",
            "\u001b[32m[I 2022-06-02 17:38:49,956]\u001b[0m Trial 5 pruned. Trial was pruned at iteration 0.\u001b[0m\n",
            "\u001b[32m[I 2022-06-02 17:38:50,046]\u001b[0m Trial 6 pruned. Trial was pruned at iteration 0.\u001b[0m\n",
            "\u001b[32m[I 2022-06-02 17:38:50,144]\u001b[0m Trial 7 pruned. Trial was pruned at iteration 0.\u001b[0m\n",
            "\u001b[32m[I 2022-06-02 17:38:50,235]\u001b[0m Trial 8 pruned. Trial was pruned at iteration 0.\u001b[0m\n",
            "\u001b[32m[I 2022-06-02 17:38:50,339]\u001b[0m Trial 9 pruned. Trial was pruned at iteration 0.\u001b[0m\n",
            "\u001b[32m[I 2022-06-02 17:38:50,435]\u001b[0m Trial 10 pruned. Trial was pruned at iteration 0.\u001b[0m\n",
            "\u001b[32m[I 2022-06-02 17:38:50,534]\u001b[0m Trial 11 pruned. Trial was pruned at iteration 0.\u001b[0m\n",
            "\u001b[32m[I 2022-06-02 17:38:50,645]\u001b[0m Trial 12 pruned. Trial was pruned at iteration 0.\u001b[0m\n",
            "\u001b[32m[I 2022-06-02 17:38:50,739]\u001b[0m Trial 13 pruned. Trial was pruned at iteration 0.\u001b[0m\n",
            "\u001b[32m[I 2022-06-02 17:38:50,837]\u001b[0m Trial 14 pruned. Trial was pruned at iteration 0.\u001b[0m\n",
            "\u001b[32m[I 2022-06-02 17:38:50,944]\u001b[0m Trial 15 pruned. Trial was pruned at iteration 0.\u001b[0m\n"
          ]
        },
        {
          "output_type": "stream",
          "name": "stdout",
          "text": [
            "[0]\tvalidation-auc:0.613636\n",
            "[1]\tvalidation-auc:0.600649\n",
            "[2]\tvalidation-auc:0.597403\n",
            "[3]\tvalidation-auc:0.613636\n",
            "[4]\tvalidation-auc:0.61039\n",
            "[5]\tvalidation-auc:0.62013\n",
            "[6]\tvalidation-auc:0.62013\n",
            "[7]\tvalidation-auc:0.61039\n",
            "[8]\tvalidation-auc:0.607143\n",
            "[9]\tvalidation-auc:0.607143\n"
          ]
        },
        {
          "output_type": "stream",
          "name": "stderr",
          "text": [
            "\u001b[32m[I 2022-06-02 17:38:51,125]\u001b[0m Trial 16 finished with value: 0.7857142857142857 and parameters: {'booster': 'gblinear', 'lambda': 0.0025623013628833908, 'alpha': 0.038304873654782315, 'subsample': 0.310075306858276, 'colsample_bytree': 0.22319930018773704}. Best is trial 2 with value: 1.0.\u001b[0m\n",
            "\u001b[32m[I 2022-06-02 17:38:51,229]\u001b[0m Trial 17 pruned. Trial was pruned at iteration 0.\u001b[0m\n",
            "\u001b[32m[I 2022-06-02 17:38:51,350]\u001b[0m Trial 18 pruned. Trial was pruned at iteration 0.\u001b[0m\n",
            "\u001b[32m[I 2022-06-02 17:38:51,453]\u001b[0m Trial 19 pruned. Trial was pruned at iteration 0.\u001b[0m\n",
            "\u001b[32m[I 2022-06-02 17:38:51,561]\u001b[0m Trial 20 pruned. Trial was pruned at iteration 0.\u001b[0m\n",
            "\u001b[32m[I 2022-06-02 17:38:51,655]\u001b[0m Trial 21 pruned. Trial was pruned at iteration 0.\u001b[0m\n",
            "\u001b[32m[I 2022-06-02 17:38:51,755]\u001b[0m Trial 22 pruned. Trial was pruned at iteration 0.\u001b[0m\n",
            "\u001b[32m[I 2022-06-02 17:38:51,854]\u001b[0m Trial 23 pruned. Trial was pruned at iteration 0.\u001b[0m\n"
          ]
        },
        {
          "output_type": "stream",
          "name": "stdout",
          "text": [
            "[0]\tvalidation-auc:0.63961\n",
            "[1]\tvalidation-auc:0.626623\n",
            "[2]\tvalidation-auc:0.594156\n",
            "[3]\tvalidation-auc:0.581169\n",
            "[4]\tvalidation-auc:0.581169\n",
            "[5]\tvalidation-auc:0.574675\n",
            "[6]\tvalidation-auc:0.568182\n",
            "[7]\tvalidation-auc:0.571429\n",
            "[8]\tvalidation-auc:0.571429\n",
            "[9]\tvalidation-auc:0.574675\n"
          ]
        },
        {
          "output_type": "stream",
          "name": "stderr",
          "text": [
            "\u001b[32m[I 2022-06-02 17:38:52,036]\u001b[0m Trial 24 finished with value: 0.7857142857142857 and parameters: {'booster': 'gblinear', 'lambda': 7.053076458613763e-08, 'alpha': 0.019269924916397646, 'subsample': 0.7566444514059856, 'colsample_bytree': 0.5169792034325816}. Best is trial 2 with value: 1.0.\u001b[0m\n",
            "\u001b[32m[I 2022-06-02 17:38:52,137]\u001b[0m Trial 25 pruned. Trial was pruned at iteration 0.\u001b[0m\n"
          ]
        },
        {
          "output_type": "stream",
          "name": "stdout",
          "text": [
            "[0]\tvalidation-auc:0.548701\n"
          ]
        },
        {
          "output_type": "stream",
          "name": "stderr",
          "text": [
            "\u001b[32m[I 2022-06-02 17:38:52,243]\u001b[0m Trial 26 pruned. Trial was pruned at iteration 1.\u001b[0m\n"
          ]
        },
        {
          "output_type": "stream",
          "name": "stdout",
          "text": [
            "[0]\tvalidation-auc:0.564935\n",
            "[1]\tvalidation-auc:0.623377\n",
            "[2]\tvalidation-auc:0.650974\n",
            "[3]\tvalidation-auc:0.628247\n",
            "[4]\tvalidation-auc:0.631494\n",
            "[5]\tvalidation-auc:0.646104\n",
            "[6]\tvalidation-auc:0.63961\n",
            "[7]\tvalidation-auc:0.616883\n",
            "[8]\tvalidation-auc:0.633117\n",
            "[9]\tvalidation-auc:0.600649\n"
          ]
        },
        {
          "output_type": "stream",
          "name": "stderr",
          "text": [
            "\u001b[32m[I 2022-06-02 17:38:52,443]\u001b[0m Trial 27 finished with value: 0.7142857142857143 and parameters: {'booster': 'dart', 'lambda': 1.7431706756521551e-06, 'alpha': 0.13164652696365411, 'subsample': 0.8239169186101118, 'colsample_bytree': 0.27038286214224694, 'max_depth': 5, 'min_child_weight': 4, 'eta': 0.0023745471866226694, 'gamma': 0.058363249579821475, 'grow_policy': 'depthwise', 'sample_type': 'weighted', 'normalize_type': 'forest', 'rate_drop': 5.746923986065874e-07, 'skip_drop': 0.0011097963731300856}. Best is trial 2 with value: 1.0.\u001b[0m\n"
          ]
        },
        {
          "output_type": "stream",
          "name": "stdout",
          "text": [
            "[0]\tvalidation-auc:0.691558\n",
            "[1]\tvalidation-auc:0.678571\n",
            "[2]\tvalidation-auc:0.668831\n",
            "[3]\tvalidation-auc:0.672078\n",
            "[4]\tvalidation-auc:0.662338\n",
            "[5]\tvalidation-auc:0.659091\n",
            "[6]\tvalidation-auc:0.665584\n",
            "[7]\tvalidation-auc:0.668831\n",
            "[8]\tvalidation-auc:0.668831\n",
            "[9]\tvalidation-auc:0.668831\n"
          ]
        },
        {
          "output_type": "stream",
          "name": "stderr",
          "text": [
            "\u001b[32m[I 2022-06-02 17:38:52,620]\u001b[0m Trial 28 finished with value: 0.8571428571428571 and parameters: {'booster': 'gblinear', 'lambda': 0.5099902582608936, 'alpha': 7.508381173322264e-08, 'subsample': 0.4778861738772048, 'colsample_bytree': 0.49700610305245213}. Best is trial 2 with value: 1.0.\u001b[0m\n",
            "\u001b[32m[I 2022-06-02 17:38:52,731]\u001b[0m Trial 29 pruned. Trial was pruned at iteration 0.\u001b[0m\n",
            "\u001b[32m[I 2022-06-02 17:38:52,829]\u001b[0m Trial 30 pruned. Trial was pruned at iteration 0.\u001b[0m\n",
            "\u001b[32m[I 2022-06-02 17:38:52,925]\u001b[0m Trial 31 pruned. Trial was pruned at iteration 0.\u001b[0m\n",
            "\u001b[32m[I 2022-06-02 17:38:53,022]\u001b[0m Trial 32 pruned. Trial was pruned at iteration 0.\u001b[0m\n",
            "\u001b[32m[I 2022-06-02 17:38:53,118]\u001b[0m Trial 33 pruned. Trial was pruned at iteration 0.\u001b[0m\n",
            "\u001b[32m[I 2022-06-02 17:38:53,217]\u001b[0m Trial 34 pruned. Trial was pruned at iteration 0.\u001b[0m\n"
          ]
        },
        {
          "output_type": "stream",
          "name": "stdout",
          "text": [
            "[0]\tvalidation-auc:0.675325\n",
            "[1]\tvalidation-auc:0.675325\n",
            "[2]\tvalidation-auc:0.665584\n",
            "[3]\tvalidation-auc:0.655844\n",
            "[4]\tvalidation-auc:0.665584\n",
            "[5]\tvalidation-auc:0.668831\n",
            "[6]\tvalidation-auc:0.668831\n",
            "[7]\tvalidation-auc:0.675325\n",
            "[8]\tvalidation-auc:0.672078\n",
            "[9]\tvalidation-auc:0.675325\n"
          ]
        },
        {
          "output_type": "stream",
          "name": "stderr",
          "text": [
            "\u001b[32m[I 2022-06-02 17:38:53,399]\u001b[0m Trial 35 finished with value: 0.8571428571428571 and parameters: {'booster': 'gblinear', 'lambda': 0.7774978596810086, 'alpha': 0.0015097756939350465, 'subsample': 0.29824154966884187, 'colsample_bytree': 0.40968138408797145}. Best is trial 2 with value: 1.0.\u001b[0m\n"
          ]
        },
        {
          "output_type": "stream",
          "name": "stdout",
          "text": [
            "[0]\tvalidation-auc:0.681818\n",
            "[1]\tvalidation-auc:0.678571\n",
            "[2]\tvalidation-auc:0.675325\n",
            "[3]\tvalidation-auc:0.662338\n",
            "[4]\tvalidation-auc:0.655844\n",
            "[5]\tvalidation-auc:0.655844\n",
            "[6]\tvalidation-auc:0.659091\n",
            "[7]\tvalidation-auc:0.662338\n",
            "[8]\tvalidation-auc:0.665584\n",
            "[9]\tvalidation-auc:0.668831\n"
          ]
        },
        {
          "output_type": "stream",
          "name": "stderr",
          "text": [
            "\u001b[32m[I 2022-06-02 17:38:53,578]\u001b[0m Trial 36 finished with value: 0.8571428571428571 and parameters: {'booster': 'gblinear', 'lambda': 0.5657583824188351, 'alpha': 3.5784860943660413e-05, 'subsample': 0.21816358595044083, 'colsample_bytree': 0.5801249230615527}. Best is trial 2 with value: 1.0.\u001b[0m\n",
            "\u001b[32m[I 2022-06-02 17:38:53,693]\u001b[0m Trial 37 pruned. Trial was pruned at iteration 0.\u001b[0m\n"
          ]
        },
        {
          "output_type": "stream",
          "name": "stdout",
          "text": [
            "[0]\tvalidation-auc:0.675325\n",
            "[1]\tvalidation-auc:0.668831\n",
            "[2]\tvalidation-auc:0.675325\n",
            "[3]\tvalidation-auc:0.662338\n",
            "[4]\tvalidation-auc:0.662338\n",
            "[5]\tvalidation-auc:0.665584\n",
            "[6]\tvalidation-auc:0.659091\n",
            "[7]\tvalidation-auc:0.675325\n",
            "[8]\tvalidation-auc:0.678571\n",
            "[9]\tvalidation-auc:0.694805\n"
          ]
        },
        {
          "output_type": "stream",
          "name": "stderr",
          "text": [
            "\u001b[32m[I 2022-06-02 17:38:53,874]\u001b[0m Trial 38 finished with value: 0.8571428571428571 and parameters: {'booster': 'gblinear', 'lambda': 0.8678339767095239, 'alpha': 0.0016880881614473096, 'subsample': 0.20861789522989502, 'colsample_bytree': 0.6172252728841277}. Best is trial 2 with value: 1.0.\u001b[0m\n",
            "\u001b[32m[I 2022-06-02 17:38:53,974]\u001b[0m Trial 39 pruned. Trial was pruned at iteration 0.\u001b[0m\n",
            "\u001b[32m[I 2022-06-02 17:38:54,076]\u001b[0m Trial 40 pruned. Trial was pruned at iteration 0.\u001b[0m\n"
          ]
        },
        {
          "output_type": "stream",
          "name": "stdout",
          "text": [
            "[0]\tvalidation-auc:0.63961\n",
            "[1]\tvalidation-auc:0.636364\n",
            "[2]\tvalidation-auc:0.633117\n",
            "[3]\tvalidation-auc:0.642857\n",
            "[4]\tvalidation-auc:0.646104\n",
            "[5]\tvalidation-auc:0.642857\n",
            "[6]\tvalidation-auc:0.642857\n",
            "[7]\tvalidation-auc:0.646104\n",
            "[8]\tvalidation-auc:0.646104\n",
            "[9]\tvalidation-auc:0.649351\n"
          ]
        },
        {
          "output_type": "stream",
          "name": "stderr",
          "text": [
            "\u001b[32m[I 2022-06-02 17:38:54,251]\u001b[0m Trial 41 finished with value: 0.8571428571428571 and parameters: {'booster': 'gblinear', 'lambda': 0.6896071363151052, 'alpha': 0.01424316019229061, 'subsample': 0.2852170123704754, 'colsample_bytree': 0.656051255700898}. Best is trial 2 with value: 1.0.\u001b[0m\n"
          ]
        },
        {
          "output_type": "stream",
          "name": "stdout",
          "text": [
            "[0]\tvalidation-auc:0.642857\n",
            "[1]\tvalidation-auc:0.662338\n",
            "[2]\tvalidation-auc:0.646104\n",
            "[3]\tvalidation-auc:0.646104\n",
            "[4]\tvalidation-auc:0.636364\n",
            "[5]\tvalidation-auc:0.636364\n",
            "[6]\tvalidation-auc:0.633117\n",
            "[7]\tvalidation-auc:0.623377\n",
            "[8]\tvalidation-auc:0.623377\n",
            "[9]\tvalidation-auc:0.623377\n"
          ]
        },
        {
          "output_type": "stream",
          "name": "stderr",
          "text": [
            "\u001b[32m[I 2022-06-02 17:38:54,431]\u001b[0m Trial 42 finished with value: 0.8571428571428571 and parameters: {'booster': 'gblinear', 'lambda': 0.21381298692096878, 'alpha': 0.001944750969552748, 'subsample': 0.2062076176478566, 'colsample_bytree': 0.6503185002107346}. Best is trial 2 with value: 1.0.\u001b[0m\n",
            "\u001b[32m[I 2022-06-02 17:38:54,530]\u001b[0m Trial 43 pruned. Trial was pruned at iteration 0.\u001b[0m\n"
          ]
        },
        {
          "output_type": "stream",
          "name": "stdout",
          "text": [
            "[0]\tvalidation-auc:0.659091\n",
            "[1]\tvalidation-auc:0.646104\n",
            "[2]\tvalidation-auc:0.642857\n",
            "[3]\tvalidation-auc:0.659091\n",
            "[4]\tvalidation-auc:0.659091\n",
            "[5]\tvalidation-auc:0.659091\n",
            "[6]\tvalidation-auc:0.662338\n",
            "[7]\tvalidation-auc:0.672078\n",
            "[8]\tvalidation-auc:0.672078\n",
            "[9]\tvalidation-auc:0.681818\n"
          ]
        },
        {
          "output_type": "stream",
          "name": "stderr",
          "text": [
            "\u001b[32m[I 2022-06-02 17:38:54,704]\u001b[0m Trial 44 finished with value: 0.9285714285714286 and parameters: {'booster': 'gblinear', 'lambda': 0.9355151107440404, 'alpha': 0.018511052695539945, 'subsample': 0.2763104234993489, 'colsample_bytree': 0.6097413325062915}. Best is trial 2 with value: 1.0.\u001b[0m\n"
          ]
        },
        {
          "output_type": "stream",
          "name": "stdout",
          "text": [
            "[0]\tvalidation-auc:0.63961\n",
            "[1]\tvalidation-auc:0.633117\n",
            "[2]\tvalidation-auc:0.616883\n",
            "[3]\tvalidation-auc:0.62013\n",
            "[4]\tvalidation-auc:0.623377\n",
            "[5]\tvalidation-auc:0.613636\n",
            "[6]\tvalidation-auc:0.616883\n",
            "[7]\tvalidation-auc:0.616883\n",
            "[8]\tvalidation-auc:0.616883\n",
            "[9]\tvalidation-auc:0.616883\n"
          ]
        },
        {
          "output_type": "stream",
          "name": "stderr",
          "text": [
            "\u001b[32m[I 2022-06-02 17:38:54,887]\u001b[0m Trial 45 finished with value: 0.8571428571428571 and parameters: {'booster': 'gblinear', 'lambda': 0.22143750340665014, 'alpha': 0.020601356878927984, 'subsample': 0.2763873219460379, 'colsample_bytree': 0.6616958446363022}. Best is trial 2 with value: 1.0.\u001b[0m\n",
            "\u001b[32m[I 2022-06-02 17:38:54,991]\u001b[0m Trial 46 pruned. Trial was pruned at iteration 0.\u001b[0m\n",
            "\u001b[32m[I 2022-06-02 17:38:55,088]\u001b[0m Trial 47 pruned. Trial was pruned at iteration 0.\u001b[0m\n",
            "\u001b[32m[I 2022-06-02 17:38:55,182]\u001b[0m Trial 48 pruned. Trial was pruned at iteration 0.\u001b[0m\n",
            "\u001b[32m[I 2022-06-02 17:38:55,284]\u001b[0m Trial 49 pruned. Trial was pruned at iteration 0.\u001b[0m\n",
            "\u001b[32m[I 2022-06-02 17:38:55,391]\u001b[0m Trial 50 pruned. Trial was pruned at iteration 0.\u001b[0m\n",
            "\u001b[32m[I 2022-06-02 17:38:55,495]\u001b[0m Trial 51 pruned. Trial was pruned at iteration 0.\u001b[0m\n"
          ]
        },
        {
          "output_type": "stream",
          "name": "stdout",
          "text": [
            "[0]\tvalidation-auc:0.652597\n",
            "[1]\tvalidation-auc:0.662338\n",
            "[2]\tvalidation-auc:0.646104\n",
            "[3]\tvalidation-auc:0.652597\n",
            "[4]\tvalidation-auc:0.646104\n",
            "[5]\tvalidation-auc:0.636364\n",
            "[6]\tvalidation-auc:0.63961\n",
            "[7]\tvalidation-auc:0.626623\n",
            "[8]\tvalidation-auc:0.62013\n",
            "[9]\tvalidation-auc:0.623377\n"
          ]
        },
        {
          "output_type": "stream",
          "name": "stderr",
          "text": [
            "\u001b[32m[I 2022-06-02 17:38:55,679]\u001b[0m Trial 52 finished with value: 0.8571428571428571 and parameters: {'booster': 'gblinear', 'lambda': 0.3362658241724193, 'alpha': 0.002359103409629776, 'subsample': 0.30517456732524345, 'colsample_bytree': 0.4566619635666215}. Best is trial 2 with value: 1.0.\u001b[0m\n",
            "\u001b[32m[I 2022-06-02 17:38:55,780]\u001b[0m Trial 53 pruned. Trial was pruned at iteration 0.\u001b[0m\n",
            "\u001b[32m[I 2022-06-02 17:38:55,880]\u001b[0m Trial 54 pruned. Trial was pruned at iteration 0.\u001b[0m\n",
            "\u001b[32m[I 2022-06-02 17:38:55,975]\u001b[0m Trial 55 pruned. Trial was pruned at iteration 0.\u001b[0m\n",
            "\u001b[32m[I 2022-06-02 17:38:56,073]\u001b[0m Trial 56 pruned. Trial was pruned at iteration 0.\u001b[0m\n",
            "\u001b[32m[I 2022-06-02 17:38:56,185]\u001b[0m Trial 57 pruned. Trial was pruned at iteration 0.\u001b[0m\n",
            "\u001b[32m[I 2022-06-02 17:38:56,278]\u001b[0m Trial 58 pruned. Trial was pruned at iteration 0.\u001b[0m\n",
            "\u001b[32m[I 2022-06-02 17:38:56,375]\u001b[0m Trial 59 pruned. Trial was pruned at iteration 0.\u001b[0m\n",
            "\u001b[32m[I 2022-06-02 17:38:56,488]\u001b[0m Trial 60 pruned. Trial was pruned at iteration 0.\u001b[0m\n"
          ]
        },
        {
          "output_type": "stream",
          "name": "stdout",
          "text": [
            "[0]\tvalidation-auc:0.681818\n",
            "[1]\tvalidation-auc:0.665584\n",
            "[2]\tvalidation-auc:0.668831\n",
            "[3]\tvalidation-auc:0.665584\n",
            "[4]\tvalidation-auc:0.675325\n",
            "[5]\tvalidation-auc:0.681818\n",
            "[6]\tvalidation-auc:0.678571\n",
            "[7]\tvalidation-auc:0.678571\n",
            "[8]\tvalidation-auc:0.681818\n",
            "[9]\tvalidation-auc:0.691558\n"
          ]
        },
        {
          "output_type": "stream",
          "name": "stderr",
          "text": [
            "\u001b[32m[I 2022-06-02 17:38:56,673]\u001b[0m Trial 61 finished with value: 0.8571428571428571 and parameters: {'booster': 'gblinear', 'lambda': 0.9471728537334849, 'alpha': 9.403727624999125e-05, 'subsample': 0.22948790261960694, 'colsample_bytree': 0.571581456638795}. Best is trial 2 with value: 1.0.\u001b[0m\n"
          ]
        },
        {
          "output_type": "stream",
          "name": "stdout",
          "text": [
            "[0]\tvalidation-auc:0.642857\n",
            "[1]\tvalidation-auc:0.665584\n",
            "[2]\tvalidation-auc:0.649351\n",
            "[3]\tvalidation-auc:0.646104\n",
            "[4]\tvalidation-auc:0.649351\n",
            "[5]\tvalidation-auc:0.633117\n",
            "[6]\tvalidation-auc:0.62987\n",
            "[7]\tvalidation-auc:0.62987\n",
            "[8]\tvalidation-auc:0.623377\n",
            "[9]\tvalidation-auc:0.62013\n"
          ]
        },
        {
          "output_type": "stream",
          "name": "stderr",
          "text": [
            "\u001b[32m[I 2022-06-02 17:38:56,853]\u001b[0m Trial 62 finished with value: 0.8571428571428571 and parameters: {'booster': 'gblinear', 'lambda': 0.24922499933221642, 'alpha': 0.002927555749250313, 'subsample': 0.3289336759846834, 'colsample_bytree': 0.5878102503760372}. Best is trial 2 with value: 1.0.\u001b[0m\n",
            "\u001b[32m[I 2022-06-02 17:38:56,944]\u001b[0m Trial 63 pruned. Trial was pruned at iteration 0.\u001b[0m\n"
          ]
        },
        {
          "output_type": "stream",
          "name": "stdout",
          "text": [
            "[0]\tvalidation-auc:0.688312\n",
            "[1]\tvalidation-auc:0.672078\n",
            "[2]\tvalidation-auc:0.685065\n",
            "[3]\tvalidation-auc:0.681818\n",
            "[4]\tvalidation-auc:0.675325\n",
            "[5]\tvalidation-auc:0.681818\n",
            "[6]\tvalidation-auc:0.678571\n",
            "[7]\tvalidation-auc:0.681818\n",
            "[8]\tvalidation-auc:0.688312\n",
            "[9]\tvalidation-auc:0.694805\n"
          ]
        },
        {
          "output_type": "stream",
          "name": "stderr",
          "text": [
            "\u001b[32m[I 2022-06-02 17:38:57,122]\u001b[0m Trial 64 finished with value: 0.8571428571428571 and parameters: {'booster': 'gblinear', 'lambda': 0.9491055894582362, 'alpha': 3.211185756794371e-08, 'subsample': 0.29901641587613426, 'colsample_bytree': 0.5859596818527173}. Best is trial 2 with value: 1.0.\u001b[0m\n"
          ]
        },
        {
          "output_type": "stream",
          "name": "stdout",
          "text": [
            "[0]\tvalidation-auc:0.675325\n",
            "[1]\tvalidation-auc:0.665584\n",
            "[2]\tvalidation-auc:0.678571\n",
            "[3]\tvalidation-auc:0.675325\n",
            "[4]\tvalidation-auc:0.672078\n",
            "[5]\tvalidation-auc:0.678571\n",
            "[6]\tvalidation-auc:0.672078\n",
            "[7]\tvalidation-auc:0.672078\n",
            "[8]\tvalidation-auc:0.678571\n",
            "[9]\tvalidation-auc:0.688312\n"
          ]
        },
        {
          "output_type": "stream",
          "name": "stderr",
          "text": [
            "\u001b[32m[I 2022-06-02 17:38:57,297]\u001b[0m Trial 65 finished with value: 0.8571428571428571 and parameters: {'booster': 'gblinear', 'lambda': 0.9176078366773096, 'alpha': 3.811670981055984e-08, 'subsample': 0.32685372458015877, 'colsample_bytree': 0.5889008054893642}. Best is trial 2 with value: 1.0.\u001b[0m\n",
            "\u001b[32m[I 2022-06-02 17:38:57,400]\u001b[0m Trial 66 pruned. Trial was pruned at iteration 0.\u001b[0m\n",
            "\u001b[32m[I 2022-06-02 17:38:57,506]\u001b[0m Trial 67 pruned. Trial was pruned at iteration 0.\u001b[0m\n"
          ]
        },
        {
          "output_type": "stream",
          "name": "stdout",
          "text": [
            "[0]\tvalidation-auc:0.685065\n",
            "[1]\tvalidation-auc:0.668831\n",
            "[2]\tvalidation-auc:0.675325\n",
            "[3]\tvalidation-auc:0.678571\n",
            "[4]\tvalidation-auc:0.662338\n",
            "[5]\tvalidation-auc:0.659091\n",
            "[6]\tvalidation-auc:0.662338\n",
            "[7]\tvalidation-auc:0.662338\n",
            "[8]\tvalidation-auc:0.668831\n",
            "[9]\tvalidation-auc:0.668831\n"
          ]
        },
        {
          "output_type": "stream",
          "name": "stderr",
          "text": [
            "\u001b[32m[I 2022-06-02 17:38:57,689]\u001b[0m Trial 68 finished with value: 0.8571428571428571 and parameters: {'booster': 'gblinear', 'lambda': 0.5492145188447105, 'alpha': 3.283533814438426e-08, 'subsample': 0.6153335693662416, 'colsample_bytree': 0.3682625129850939}. Best is trial 2 with value: 1.0.\u001b[0m\n"
          ]
        },
        {
          "output_type": "stream",
          "name": "stdout",
          "text": [
            "[0]\tvalidation-auc:0.685065\n",
            "[1]\tvalidation-auc:0.675325\n",
            "[2]\tvalidation-auc:0.675325\n",
            "[3]\tvalidation-auc:0.662338\n",
            "[4]\tvalidation-auc:0.659091\n",
            "[5]\tvalidation-auc:0.652597\n",
            "[6]\tvalidation-auc:0.662338\n",
            "[7]\tvalidation-auc:0.665584\n",
            "[8]\tvalidation-auc:0.665584\n",
            "[9]\tvalidation-auc:0.665584\n"
          ]
        },
        {
          "output_type": "stream",
          "name": "stderr",
          "text": [
            "\u001b[32m[I 2022-06-02 17:38:57,864]\u001b[0m Trial 69 finished with value: 0.8571428571428571 and parameters: {'booster': 'gblinear', 'lambda': 0.6580316015396166, 'alpha': 6.883598829284126e-07, 'subsample': 0.6228478565708355, 'colsample_bytree': 0.2862307583339385}. Best is trial 2 with value: 1.0.\u001b[0m\n",
            "\u001b[32m[I 2022-06-02 17:38:57,983]\u001b[0m Trial 70 pruned. Trial was pruned at iteration 0.\u001b[0m\n"
          ]
        },
        {
          "output_type": "stream",
          "name": "stdout",
          "text": [
            "[0]\tvalidation-auc:0.675325\n",
            "[1]\tvalidation-auc:0.672078\n",
            "[2]\tvalidation-auc:0.678571\n",
            "[3]\tvalidation-auc:0.665584\n",
            "[4]\tvalidation-auc:0.659091\n",
            "[5]\tvalidation-auc:0.668831\n",
            "[6]\tvalidation-auc:0.668831\n",
            "[7]\tvalidation-auc:0.675325\n",
            "[8]\tvalidation-auc:0.675325\n",
            "[9]\tvalidation-auc:0.678571\n"
          ]
        },
        {
          "output_type": "stream",
          "name": "stderr",
          "text": [
            "\u001b[32m[I 2022-06-02 17:38:58,165]\u001b[0m Trial 71 finished with value: 0.8571428571428571 and parameters: {'booster': 'gblinear', 'lambda': 0.6860265224777591, 'alpha': 1.701416832868167e-06, 'subsample': 0.22795954794307194, 'colsample_bytree': 0.21989818994672242}. Best is trial 2 with value: 1.0.\u001b[0m\n",
            "\u001b[32m[I 2022-06-02 17:38:58,263]\u001b[0m Trial 72 pruned. Trial was pruned at iteration 0.\u001b[0m\n",
            "\u001b[32m[I 2022-06-02 17:38:58,363]\u001b[0m Trial 73 pruned. Trial was pruned at iteration 0.\u001b[0m\n",
            "\u001b[32m[I 2022-06-02 17:38:58,463]\u001b[0m Trial 74 pruned. Trial was pruned at iteration 0.\u001b[0m\n"
          ]
        },
        {
          "output_type": "stream",
          "name": "stdout",
          "text": [
            "[0]\tvalidation-auc:0.681818\n",
            "[1]\tvalidation-auc:0.698052\n",
            "[2]\tvalidation-auc:0.681818\n",
            "[3]\tvalidation-auc:0.662338\n",
            "[4]\tvalidation-auc:0.650974\n",
            "[5]\tvalidation-auc:0.655844\n",
            "[6]\tvalidation-auc:0.646104\n",
            "[7]\tvalidation-auc:0.63961\n",
            "[8]\tvalidation-auc:0.646104\n",
            "[9]\tvalidation-auc:0.646104\n"
          ]
        },
        {
          "output_type": "stream",
          "name": "stderr",
          "text": [
            "\u001b[32m[I 2022-06-02 17:38:58,657]\u001b[0m Trial 75 finished with value: 0.8571428571428571 and parameters: {'booster': 'gblinear', 'lambda': 0.2782343186829836, 'alpha': 1.1260843522320058e-07, 'subsample': 0.44153371026348237, 'colsample_bytree': 0.5695821312257756}. Best is trial 2 with value: 1.0.\u001b[0m\n",
            "\u001b[32m[I 2022-06-02 17:38:58,752]\u001b[0m Trial 76 pruned. Trial was pruned at iteration 0.\u001b[0m\n",
            "\u001b[32m[I 2022-06-02 17:38:58,870]\u001b[0m Trial 77 pruned. Trial was pruned at iteration 0.\u001b[0m\n",
            "\u001b[32m[I 2022-06-02 17:38:58,966]\u001b[0m Trial 78 pruned. Trial was pruned at iteration 0.\u001b[0m\n"
          ]
        },
        {
          "output_type": "stream",
          "name": "stdout",
          "text": [
            "[0]\tvalidation-auc:0.691558\n",
            "[1]\tvalidation-auc:0.681818\n",
            "[2]\tvalidation-auc:0.675325\n",
            "[3]\tvalidation-auc:0.675325\n",
            "[4]\tvalidation-auc:0.668831\n",
            "[5]\tvalidation-auc:0.659091\n",
            "[6]\tvalidation-auc:0.665584\n",
            "[7]\tvalidation-auc:0.668831\n",
            "[8]\tvalidation-auc:0.668831\n",
            "[9]\tvalidation-auc:0.668831\n"
          ]
        },
        {
          "output_type": "stream",
          "name": "stderr",
          "text": [
            "\u001b[32m[I 2022-06-02 17:38:59,148]\u001b[0m Trial 79 finished with value: 0.8571428571428571 and parameters: {'booster': 'gblinear', 'lambda': 0.606464415629099, 'alpha': 2.2720044884782113e-06, 'subsample': 0.6659196733590975, 'colsample_bytree': 0.2644511311786819}. Best is trial 2 with value: 1.0.\u001b[0m\n",
            "\u001b[32m[I 2022-06-02 17:38:59,265]\u001b[0m Trial 80 pruned. Trial was pruned at iteration 0.\u001b[0m\n"
          ]
        },
        {
          "output_type": "stream",
          "name": "stdout",
          "text": [
            "[0]\tvalidation-auc:0.675325\n",
            "[1]\tvalidation-auc:0.665584\n",
            "[2]\tvalidation-auc:0.665584\n",
            "[3]\tvalidation-auc:0.675325\n",
            "[4]\tvalidation-auc:0.672078\n",
            "[5]\tvalidation-auc:0.681818\n",
            "[6]\tvalidation-auc:0.678571\n",
            "[7]\tvalidation-auc:0.678571\n",
            "[8]\tvalidation-auc:0.678571\n",
            "[9]\tvalidation-auc:0.688312\n"
          ]
        },
        {
          "output_type": "stream",
          "name": "stderr",
          "text": [
            "\u001b[32m[I 2022-06-02 17:38:59,447]\u001b[0m Trial 81 finished with value: 0.8571428571428571 and parameters: {'booster': 'gblinear', 'lambda': 0.8951619903445687, 'alpha': 5.7330955073473684e-08, 'subsample': 0.5259431228588098, 'colsample_bytree': 0.23843509004212068}. Best is trial 2 with value: 1.0.\u001b[0m\n"
          ]
        },
        {
          "output_type": "stream",
          "name": "stdout",
          "text": [
            "[0]\tvalidation-auc:0.681818\n",
            "[1]\tvalidation-auc:0.672078\n",
            "[2]\tvalidation-auc:0.662338\n",
            "[3]\tvalidation-auc:0.659091\n",
            "[4]\tvalidation-auc:0.649351\n",
            "[5]\tvalidation-auc:0.646104\n",
            "[6]\tvalidation-auc:0.646104\n",
            "[7]\tvalidation-auc:0.646104\n",
            "[8]\tvalidation-auc:0.642857\n",
            "[9]\tvalidation-auc:0.642857\n"
          ]
        },
        {
          "output_type": "stream",
          "name": "stderr",
          "text": [
            "\u001b[32m[I 2022-06-02 17:38:59,652]\u001b[0m Trial 82 finished with value: 0.8571428571428571 and parameters: {'booster': 'gblinear', 'lambda': 0.4545972696242773, 'alpha': 0.0003707695443857936, 'subsample': 0.2088909337818937, 'colsample_bytree': 0.6094877826472626}. Best is trial 2 with value: 1.0.\u001b[0m\n",
            "\u001b[32m[I 2022-06-02 17:38:59,757]\u001b[0m Trial 83 pruned. Trial was pruned at iteration 0.\u001b[0m\n"
          ]
        },
        {
          "output_type": "stream",
          "name": "stdout",
          "text": [
            "[0]\tvalidation-auc:0.678571\n",
            "[1]\tvalidation-auc:0.672078\n",
            "[2]\tvalidation-auc:0.662338\n",
            "[3]\tvalidation-auc:0.662338\n",
            "[4]\tvalidation-auc:0.652597\n",
            "[5]\tvalidation-auc:0.646104\n",
            "[6]\tvalidation-auc:0.649351\n",
            "[7]\tvalidation-auc:0.646104\n",
            "[8]\tvalidation-auc:0.646104\n",
            "[9]\tvalidation-auc:0.649351\n"
          ]
        },
        {
          "output_type": "stream",
          "name": "stderr",
          "text": [
            "\u001b[32m[I 2022-06-02 17:38:59,948]\u001b[0m Trial 84 finished with value: 0.8571428571428571 and parameters: {'booster': 'gblinear', 'lambda': 0.46237520752680994, 'alpha': 0.001022239329289067, 'subsample': 0.21740586659717553, 'colsample_bytree': 0.6133903254878398}. Best is trial 2 with value: 1.0.\u001b[0m\n",
            "\u001b[32m[I 2022-06-02 17:39:00,043]\u001b[0m Trial 85 pruned. Trial was pruned at iteration 0.\u001b[0m\n",
            "\u001b[32m[I 2022-06-02 17:39:00,149]\u001b[0m Trial 86 pruned. Trial was pruned at iteration 0.\u001b[0m\n",
            "\u001b[32m[I 2022-06-02 17:39:00,247]\u001b[0m Trial 87 pruned. Trial was pruned at iteration 0.\u001b[0m\n"
          ]
        },
        {
          "output_type": "stream",
          "name": "stdout",
          "text": [
            "[0]\tvalidation-auc:0.685065\n",
            "[1]\tvalidation-auc:0.681818\n",
            "[2]\tvalidation-auc:0.685065\n",
            "[3]\tvalidation-auc:0.678571\n",
            "[4]\tvalidation-auc:0.678571\n",
            "[5]\tvalidation-auc:0.681818\n",
            "[6]\tvalidation-auc:0.675325\n",
            "[7]\tvalidation-auc:0.672078\n",
            "[8]\tvalidation-auc:0.672078\n",
            "[9]\tvalidation-auc:0.675325\n"
          ]
        },
        {
          "output_type": "stream",
          "name": "stderr",
          "text": [
            "\u001b[32m[I 2022-06-02 17:39:00,421]\u001b[0m Trial 88 finished with value: 0.8571428571428571 and parameters: {'booster': 'gblinear', 'lambda': 0.8373727678018571, 'alpha': 8.607805681861056e-05, 'subsample': 0.3129248379752191, 'colsample_bytree': 0.5784009655497335}. Best is trial 2 with value: 1.0.\u001b[0m\n",
            "\u001b[32m[I 2022-06-02 17:39:00,540]\u001b[0m Trial 89 pruned. Trial was pruned at iteration 0.\u001b[0m\n",
            "\u001b[32m[I 2022-06-02 17:39:00,653]\u001b[0m Trial 90 pruned. Trial was pruned at iteration 0.\u001b[0m\n",
            "\u001b[32m[I 2022-06-02 17:39:00,758]\u001b[0m Trial 91 pruned. Trial was pruned at iteration 0.\u001b[0m\n",
            "\u001b[32m[I 2022-06-02 17:39:00,856]\u001b[0m Trial 92 pruned. Trial was pruned at iteration 0.\u001b[0m\n"
          ]
        },
        {
          "output_type": "stream",
          "name": "stdout",
          "text": [
            "[0]\tvalidation-auc:0.685065\n",
            "[1]\tvalidation-auc:0.681818\n",
            "[2]\tvalidation-auc:0.675325\n",
            "[3]\tvalidation-auc:0.668831\n",
            "[4]\tvalidation-auc:0.668831\n",
            "[5]\tvalidation-auc:0.662338\n",
            "[6]\tvalidation-auc:0.665584\n",
            "[7]\tvalidation-auc:0.672078\n",
            "[8]\tvalidation-auc:0.665584\n",
            "[9]\tvalidation-auc:0.672078\n"
          ]
        },
        {
          "output_type": "stream",
          "name": "stderr",
          "text": [
            "\u001b[32m[I 2022-06-02 17:39:01,042]\u001b[0m Trial 93 finished with value: 0.8571428571428571 and parameters: {'booster': 'gblinear', 'lambda': 0.6891434997345821, 'alpha': 6.36119943223149e-07, 'subsample': 0.6174021642034098, 'colsample_bytree': 0.3846307632792385}. Best is trial 2 with value: 1.0.\u001b[0m\n",
            "\u001b[32m[I 2022-06-02 17:39:01,144]\u001b[0m Trial 94 pruned. Trial was pruned at iteration 0.\u001b[0m\n",
            "\u001b[32m[I 2022-06-02 17:39:01,244]\u001b[0m Trial 95 pruned. Trial was pruned at iteration 0.\u001b[0m\n",
            "\u001b[32m[I 2022-06-02 17:39:01,340]\u001b[0m Trial 96 pruned. Trial was pruned at iteration 0.\u001b[0m\n",
            "\u001b[32m[I 2022-06-02 17:39:01,438]\u001b[0m Trial 97 pruned. Trial was pruned at iteration 0.\u001b[0m\n",
            "\u001b[32m[I 2022-06-02 17:39:01,556]\u001b[0m Trial 98 pruned. Trial was pruned at iteration 0.\u001b[0m\n",
            "\u001b[32m[I 2022-06-02 17:39:01,664]\u001b[0m Trial 99 pruned. Trial was pruned at iteration 0.\u001b[0m\n"
          ]
        },
        {
          "output_type": "stream",
          "name": "stdout",
          "text": [
            "Recall : %f 1.0\n",
            "Best HyperParamteters : %f {'booster': 'dart', 'lambda': 8.669790267915281e-07, 'alpha': 1.1536382592082632e-08, 'subsample': 0.28469669085250404, 'colsample_bytree': 0.5566590888822147, 'max_depth': 7, 'min_child_weight': 10, 'eta': 0.003933096882701822, 'gamma': 0.0018015367008443472, 'grow_policy': 'lossguide', 'sample_type': 'weighted', 'normalize_type': 'forest', 'rate_drop': 8.829825957910605e-06, 'skip_drop': 5.189332052983798e-07}\n"
          ]
        }
      ]
    },
    {
      "cell_type": "markdown",
      "source": [
        "### Recall\n",
        "1.0\n",
        "\n",
        "### Best HyperParamteters\n",
        "'booster': 'dart', \n",
        "\n",
        "'lambda': 8.669790267915281e-07, \n",
        "\n",
        "'alpha': 1.1536382592082632e-08, \n",
        "\n",
        "'subsample': 0.28469669085250404, \n",
        "\n",
        "'colsample_bytree': 0.5566590888822147, \n",
        "\n",
        "'max_depth': 7, \n",
        "\n",
        "'min_child_weight': 10, \n",
        "\n",
        "'eta': 0.003933096882701822, \n",
        "\n",
        "'gamma': 0.0018015367008443472, \n",
        "\n",
        "'grow_policy': 'lossguide', \n",
        "\n",
        "'sample_type': 'weighted', \n",
        "\n",
        "'normalize_type': 'forest', \n",
        "\n",
        "'rate_drop': 8.829825957910605e-06, \n",
        "\n",
        "'skip_drop': 5.189332052983798e-07}"
      ],
      "metadata": {
        "id": "1-qCJAZSc3D5"
      }
    }
  ]
}